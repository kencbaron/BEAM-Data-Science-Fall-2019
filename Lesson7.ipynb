{
  "nbformat": 4,
  "nbformat_minor": 0,
  "metadata": {
    "colab": {
      "name": "05_linear_regression.ipynb",
      "provenance": [],
      "include_colab_link": true
    },
    "kernelspec": {
      "display_name": "Python 3",
      "language": "python",
      "name": "python3"
    }
  },
  "cells": [
    {
      "cell_type": "markdown",
      "metadata": {
        "id": "view-in-github",
        "colab_type": "text"
      },
      "source": [
        "<a href=\"https://colab.research.google.com/github/kencbaron/BEAM-Data-Science-Fall-2019/blob/master/Lesson7v5.ipynb\" target=\"_parent\"><img src=\"https://colab.research.google.com/assets/colab-badge.svg\" alt=\"Open In Colab\"/></a>"
      ]
    },
    {
      "cell_type": "markdown",
      "metadata": {
        "id": "6gb9hTmhiAzC",
        "colab_type": "text"
      },
      "source": [
        "<h1> Continuation - Linear Regression</h1>"
      ]
    },
    {
      "cell_type": "markdown",
      "metadata": {
        "id": "9r-3DuWFiAzE",
        "colab_type": "text"
      },
      "source": [
        "<h2>Key Concepts</h2>\n",
        "\n",
        "- Fit a linear model\n",
        "- Goodness of fit of a regression model and R-squared\n",
        "- Multiple regression \n"
      ]
    },
    {
      "cell_type": "markdown",
      "metadata": {
        "id": "yIE_TuiKiAzE",
        "colab_type": "text"
      },
      "source": [
        "<h2> Shout Outs to Colleagues </h2>\n",
        "\n",
        "Walt H (538), Harold F and Peter T. And Aditi K, Greg S, Jinger Z, Steven K, and Xufei W\n",
        "\n",
        "\n",
        "\n",
        "<h2>Loading Statistics Packages </h2>"
      ]
    },
    {
      "cell_type": "markdown",
      "metadata": {
        "id": "_m37GPWtiAzF",
        "colab_type": "text"
      },
      "source": [
        "As usual, we load some helpful Python statistics packages:\n",
        "\n",
        "- Pandas is a general purpose package for data analysis, particularly datasets that are measured over time (*pan*el *da*taset*s*)\n",
        "- Numpy is a package for easily manipulating matrices and includes some basic multivariate statistics and linear algebra functions\n",
        "- Matplotlib is a package for plotting data\n"
      ]
    },
    {
      "cell_type": "code",
      "metadata": {
        "id": "c0VeOkVGiAzG",
        "colab_type": "code",
        "colab": {}
      },
      "source": [
        "import pandas as pd # loading Pandas, a module for data analysis\n",
        "import numpy as np # loading Numpy, a module for matrices and linear algebra\n",
        "import matplotlib.pyplot as plt # loading matplotlib.pyplot, a module useful for interactiveplotting\n",
        "import warnings; warnings.simplefilter('ignore')  # suppressing warnings "
      ],
      "execution_count": 0,
      "outputs": []
    },
    {
      "cell_type": "code",
      "metadata": {
        "id": "BpSaSnVkC73B",
        "colab_type": "code",
        "outputId": "8678e604-cc05-49c2-d094-6ad2195cda64",
        "colab": {
          "base_uri": "https://localhost:8080/",
          "height": 153
        }
      },
      "source": [
        "!git clone https://@github.com/kencbaron/data # cloning an existing github repository"
      ],
      "execution_count": 2,
      "outputs": [
        {
          "output_type": "stream",
          "text": [
            "Cloning into 'data'...\n",
            "remote: Enumerating objects: 38, done.\u001b[K\n",
            "remote: Counting objects: 100% (38/38), done.\u001b[K\n",
            "remote: Compressing objects: 100% (32/32), done.\u001b[K\n",
            "remote: Total 4862 (delta 13), reused 15 (delta 5), pack-reused 4824\u001b[K\n",
            "Receiving objects: 100% (4862/4862), 82.45 MiB | 19.74 MiB/s, done.\n",
            "Resolving deltas: 100% (2339/2339), done.\n",
            "Checking out files: 100% (788/788), done.\n"
          ],
          "name": "stdout"
        }
      ]
    },
    {
      "cell_type": "code",
      "metadata": {
        "id": "-XfE7QiFiAzK",
        "colab_type": "code",
        "colab": {}
      },
      "source": [
        "data = pd.read_csv(\"data/candy-power-ranking/candy-data.csv\") # reading our csv dataset into the variable name data # using Pandas to load data\n"
      ],
      "execution_count": 0,
      "outputs": []
    },
    {
      "cell_type": "code",
      "metadata": {
        "id": "vB5w95UpQlMK",
        "colab_type": "code",
        "outputId": "2aba9c20-9b4f-4b7f-cc7a-c30c196822ea",
        "colab": {
          "base_uri": "https://localhost:8080/",
          "height": 419
        }
      },
      "source": [
        "data"
      ],
      "execution_count": 4,
      "outputs": [
        {
          "output_type": "execute_result",
          "data": {
            "text/html": [
              "<div>\n",
              "<style scoped>\n",
              "    .dataframe tbody tr th:only-of-type {\n",
              "        vertical-align: middle;\n",
              "    }\n",
              "\n",
              "    .dataframe tbody tr th {\n",
              "        vertical-align: top;\n",
              "    }\n",
              "\n",
              "    .dataframe thead th {\n",
              "        text-align: right;\n",
              "    }\n",
              "</style>\n",
              "<table border=\"1\" class=\"dataframe\">\n",
              "  <thead>\n",
              "    <tr style=\"text-align: right;\">\n",
              "      <th></th>\n",
              "      <th>competitorname</th>\n",
              "      <th>chocolate</th>\n",
              "      <th>fruity</th>\n",
              "      <th>caramel</th>\n",
              "      <th>peanutyalmondy</th>\n",
              "      <th>nougat</th>\n",
              "      <th>crispedricewafer</th>\n",
              "      <th>hard</th>\n",
              "      <th>bar</th>\n",
              "      <th>pluribus</th>\n",
              "      <th>sugarpercent</th>\n",
              "      <th>pricepercent</th>\n",
              "      <th>winpercent</th>\n",
              "    </tr>\n",
              "  </thead>\n",
              "  <tbody>\n",
              "    <tr>\n",
              "      <th>0</th>\n",
              "      <td>100 Grand</td>\n",
              "      <td>1</td>\n",
              "      <td>0</td>\n",
              "      <td>1</td>\n",
              "      <td>0</td>\n",
              "      <td>0</td>\n",
              "      <td>1</td>\n",
              "      <td>0</td>\n",
              "      <td>1</td>\n",
              "      <td>0</td>\n",
              "      <td>0.732</td>\n",
              "      <td>0.860</td>\n",
              "      <td>66.971725</td>\n",
              "    </tr>\n",
              "    <tr>\n",
              "      <th>1</th>\n",
              "      <td>3 Musketeers</td>\n",
              "      <td>1</td>\n",
              "      <td>0</td>\n",
              "      <td>0</td>\n",
              "      <td>0</td>\n",
              "      <td>1</td>\n",
              "      <td>0</td>\n",
              "      <td>0</td>\n",
              "      <td>1</td>\n",
              "      <td>0</td>\n",
              "      <td>0.604</td>\n",
              "      <td>0.511</td>\n",
              "      <td>67.602936</td>\n",
              "    </tr>\n",
              "    <tr>\n",
              "      <th>2</th>\n",
              "      <td>One dime</td>\n",
              "      <td>0</td>\n",
              "      <td>0</td>\n",
              "      <td>0</td>\n",
              "      <td>0</td>\n",
              "      <td>0</td>\n",
              "      <td>0</td>\n",
              "      <td>0</td>\n",
              "      <td>0</td>\n",
              "      <td>0</td>\n",
              "      <td>0.011</td>\n",
              "      <td>0.116</td>\n",
              "      <td>32.261086</td>\n",
              "    </tr>\n",
              "    <tr>\n",
              "      <th>3</th>\n",
              "      <td>One quarter</td>\n",
              "      <td>0</td>\n",
              "      <td>0</td>\n",
              "      <td>0</td>\n",
              "      <td>0</td>\n",
              "      <td>0</td>\n",
              "      <td>0</td>\n",
              "      <td>0</td>\n",
              "      <td>0</td>\n",
              "      <td>0</td>\n",
              "      <td>0.011</td>\n",
              "      <td>0.511</td>\n",
              "      <td>46.116505</td>\n",
              "    </tr>\n",
              "    <tr>\n",
              "      <th>4</th>\n",
              "      <td>Air Heads</td>\n",
              "      <td>0</td>\n",
              "      <td>1</td>\n",
              "      <td>0</td>\n",
              "      <td>0</td>\n",
              "      <td>0</td>\n",
              "      <td>0</td>\n",
              "      <td>0</td>\n",
              "      <td>0</td>\n",
              "      <td>0</td>\n",
              "      <td>0.906</td>\n",
              "      <td>0.511</td>\n",
              "      <td>52.341465</td>\n",
              "    </tr>\n",
              "    <tr>\n",
              "      <th>...</th>\n",
              "      <td>...</td>\n",
              "      <td>...</td>\n",
              "      <td>...</td>\n",
              "      <td>...</td>\n",
              "      <td>...</td>\n",
              "      <td>...</td>\n",
              "      <td>...</td>\n",
              "      <td>...</td>\n",
              "      <td>...</td>\n",
              "      <td>...</td>\n",
              "      <td>...</td>\n",
              "      <td>...</td>\n",
              "      <td>...</td>\n",
              "    </tr>\n",
              "    <tr>\n",
              "      <th>80</th>\n",
              "      <td>Twizzlers</td>\n",
              "      <td>0</td>\n",
              "      <td>1</td>\n",
              "      <td>0</td>\n",
              "      <td>0</td>\n",
              "      <td>0</td>\n",
              "      <td>0</td>\n",
              "      <td>0</td>\n",
              "      <td>0</td>\n",
              "      <td>0</td>\n",
              "      <td>0.220</td>\n",
              "      <td>0.116</td>\n",
              "      <td>45.466282</td>\n",
              "    </tr>\n",
              "    <tr>\n",
              "      <th>81</th>\n",
              "      <td>Warheads</td>\n",
              "      <td>0</td>\n",
              "      <td>1</td>\n",
              "      <td>0</td>\n",
              "      <td>0</td>\n",
              "      <td>0</td>\n",
              "      <td>0</td>\n",
              "      <td>1</td>\n",
              "      <td>0</td>\n",
              "      <td>0</td>\n",
              "      <td>0.093</td>\n",
              "      <td>0.116</td>\n",
              "      <td>39.011898</td>\n",
              "    </tr>\n",
              "    <tr>\n",
              "      <th>82</th>\n",
              "      <td>WelchÕs Fruit Snacks</td>\n",
              "      <td>0</td>\n",
              "      <td>1</td>\n",
              "      <td>0</td>\n",
              "      <td>0</td>\n",
              "      <td>0</td>\n",
              "      <td>0</td>\n",
              "      <td>0</td>\n",
              "      <td>0</td>\n",
              "      <td>1</td>\n",
              "      <td>0.313</td>\n",
              "      <td>0.313</td>\n",
              "      <td>44.375519</td>\n",
              "    </tr>\n",
              "    <tr>\n",
              "      <th>83</th>\n",
              "      <td>WertherÕs Original Caramel</td>\n",
              "      <td>0</td>\n",
              "      <td>0</td>\n",
              "      <td>1</td>\n",
              "      <td>0</td>\n",
              "      <td>0</td>\n",
              "      <td>0</td>\n",
              "      <td>1</td>\n",
              "      <td>0</td>\n",
              "      <td>0</td>\n",
              "      <td>0.186</td>\n",
              "      <td>0.267</td>\n",
              "      <td>41.904308</td>\n",
              "    </tr>\n",
              "    <tr>\n",
              "      <th>84</th>\n",
              "      <td>Whoppers</td>\n",
              "      <td>1</td>\n",
              "      <td>0</td>\n",
              "      <td>0</td>\n",
              "      <td>0</td>\n",
              "      <td>0</td>\n",
              "      <td>1</td>\n",
              "      <td>0</td>\n",
              "      <td>0</td>\n",
              "      <td>1</td>\n",
              "      <td>0.872</td>\n",
              "      <td>0.848</td>\n",
              "      <td>49.524113</td>\n",
              "    </tr>\n",
              "  </tbody>\n",
              "</table>\n",
              "<p>85 rows × 13 columns</p>\n",
              "</div>"
            ],
            "text/plain": [
              "                competitorname  chocolate  ...  pricepercent  winpercent\n",
              "0                    100 Grand          1  ...         0.860   66.971725\n",
              "1                 3 Musketeers          1  ...         0.511   67.602936\n",
              "2                     One dime          0  ...         0.116   32.261086\n",
              "3                  One quarter          0  ...         0.511   46.116505\n",
              "4                    Air Heads          0  ...         0.511   52.341465\n",
              "..                         ...        ...  ...           ...         ...\n",
              "80                   Twizzlers          0  ...         0.116   45.466282\n",
              "81                    Warheads          0  ...         0.116   39.011898\n",
              "82        WelchÕs Fruit Snacks          0  ...         0.313   44.375519\n",
              "83  WertherÕs Original Caramel          0  ...         0.267   41.904308\n",
              "84                    Whoppers          1  ...         0.848   49.524113\n",
              "\n",
              "[85 rows x 13 columns]"
            ]
          },
          "metadata": {
            "tags": []
          },
          "execution_count": 4
        }
      ]
    },
    {
      "cell_type": "markdown",
      "metadata": {
        "id": "YDYjD54t_1sH",
        "colab_type": "text"
      },
      "source": [
        "Reminder that Python indexing starts at 0"
      ]
    },
    {
      "cell_type": "markdown",
      "metadata": {
        "id": "FJ2qTbxviAzy",
        "colab_type": "text"
      },
      "source": [
        "<h2> Computing Some Correlations </h2>"
      ]
    },
    {
      "cell_type": "code",
      "metadata": {
        "id": "tgjXxasPHdK8",
        "colab_type": "code",
        "colab": {
          "base_uri": "https://localhost:8080/",
          "height": 51
        },
        "outputId": "0020aa72-229e-4759-b8f9-06a8f372697e"
      },
      "source": [
        "np.corrcoef([data[\"winpercent\"],data[\"chocolate\"]])"
      ],
      "execution_count": 56,
      "outputs": [
        {
          "output_type": "execute_result",
          "data": {
            "text/plain": [
              "array([[1.        , 0.63651675],\n",
              "       [0.63651675, 1.        ]])"
            ]
          },
          "metadata": {
            "tags": []
          },
          "execution_count": 56
        }
      ]
    },
    {
      "cell_type": "code",
      "metadata": {
        "id": "wCRhpA8AKOhm",
        "colab_type": "code",
        "colab": {
          "base_uri": "https://localhost:8080/",
          "height": 51
        },
        "outputId": "6cc9a71e-692e-4562-a47b-8638c229b2e6"
      },
      "source": [
        "np.corrcoef([data[\"winpercent\"],data[\"caramel\"]])"
      ],
      "execution_count": 61,
      "outputs": [
        {
          "output_type": "execute_result",
          "data": {
            "text/plain": [
              "array([[1.       , 0.2134163],\n",
              "       [0.2134163, 1.       ]])"
            ]
          },
          "metadata": {
            "tags": []
          },
          "execution_count": 61
        }
      ]
    },
    {
      "cell_type": "code",
      "metadata": {
        "id": "AajHA_ixLpPX",
        "colab_type": "code",
        "colab": {
          "base_uri": "https://localhost:8080/",
          "height": 221
        },
        "outputId": "3e72b2e1-a544-4f4b-a2e1-f52dbb30f978"
      },
      "source": [
        "import statsmodels.api as sm # import a stats module \n",
        "data[\"Constant\"] = 1\n",
        "data[\"Constant\"]"
      ],
      "execution_count": 65,
      "outputs": [
        {
          "output_type": "execute_result",
          "data": {
            "text/plain": [
              "0     1\n",
              "1     1\n",
              "2     1\n",
              "3     1\n",
              "4     1\n",
              "     ..\n",
              "80    1\n",
              "81    1\n",
              "82    1\n",
              "83    1\n",
              "84    1\n",
              "Name: Constant, Length: 85, dtype: int64"
            ]
          },
          "metadata": {
            "tags": []
          },
          "execution_count": 65
        }
      ]
    },
    {
      "cell_type": "markdown",
      "metadata": {
        "id": "XTlh76U_Kxc2",
        "colab_type": "text"
      },
      "source": [
        "Computing A Simple Linear Regression"
      ]
    },
    {
      "cell_type": "code",
      "metadata": {
        "id": "hcPCEVySK8Yt",
        "colab_type": "code",
        "colab": {
          "base_uri": "https://localhost:8080/",
          "height": 444
        },
        "outputId": "3a455c9a-e112-4d84-dcd1-320d316a9990"
      },
      "source": [
        "m = sm.OLS(data[\"winpercent\"], data[[\"chocolate\", \"Constant\"]]).fit()\n",
        "m.summary()"
      ],
      "execution_count": 62,
      "outputs": [
        {
          "output_type": "execute_result",
          "data": {
            "text/html": [
              "<table class=\"simpletable\">\n",
              "<caption>OLS Regression Results</caption>\n",
              "<tr>\n",
              "  <th>Dep. Variable:</th>       <td>winpercent</td>    <th>  R-squared:         </th> <td>   0.405</td>\n",
              "</tr>\n",
              "<tr>\n",
              "  <th>Model:</th>                   <td>OLS</td>       <th>  Adj. R-squared:    </th> <td>   0.398</td>\n",
              "</tr>\n",
              "<tr>\n",
              "  <th>Method:</th>             <td>Least Squares</td>  <th>  F-statistic:       </th> <td>   56.53</td>\n",
              "</tr>\n",
              "<tr>\n",
              "  <th>Date:</th>             <td>Sat, 07 Dec 2019</td> <th>  Prob (F-statistic):</th> <td>5.86e-11</td>\n",
              "</tr>\n",
              "<tr>\n",
              "  <th>Time:</th>                 <td>11:43:51</td>     <th>  Log-Likelihood:    </th> <td> -326.58</td>\n",
              "</tr>\n",
              "<tr>\n",
              "  <th>No. Observations:</th>      <td>    85</td>      <th>  AIC:               </th> <td>   657.2</td>\n",
              "</tr>\n",
              "<tr>\n",
              "  <th>Df Residuals:</th>          <td>    83</td>      <th>  BIC:               </th> <td>   662.0</td>\n",
              "</tr>\n",
              "<tr>\n",
              "  <th>Df Model:</th>              <td>     1</td>      <th>                     </th>     <td> </td>   \n",
              "</tr>\n",
              "<tr>\n",
              "  <th>Covariance Type:</th>      <td>nonrobust</td>    <th>                     </th>     <td> </td>   \n",
              "</tr>\n",
              "</table>\n",
              "<table class=\"simpletable\">\n",
              "<tr>\n",
              "      <td></td>         <th>coef</th>     <th>std err</th>      <th>t</th>      <th>P>|t|</th>  <th>[0.025</th>    <th>0.975]</th>  \n",
              "</tr>\n",
              "<tr>\n",
              "  <th>chocolate</th> <td>   18.7793</td> <td>    2.498</td> <td>    7.519</td> <td> 0.000</td> <td>   13.812</td> <td>   23.747</td>\n",
              "</tr>\n",
              "<tr>\n",
              "  <th>Constant</th>  <td>   42.1423</td> <td>    1.648</td> <td>   25.574</td> <td> 0.000</td> <td>   38.865</td> <td>   45.420</td>\n",
              "</tr>\n",
              "</table>\n",
              "<table class=\"simpletable\">\n",
              "<tr>\n",
              "  <th>Omnibus:</th>       <td> 0.632</td> <th>  Durbin-Watson:     </th> <td>   1.715</td>\n",
              "</tr>\n",
              "<tr>\n",
              "  <th>Prob(Omnibus):</th> <td> 0.729</td> <th>  Jarque-Bera (JB):  </th> <td>   0.716</td>\n",
              "</tr>\n",
              "<tr>\n",
              "  <th>Skew:</th>          <td> 0.011</td> <th>  Prob(JB):          </th> <td>   0.699</td>\n",
              "</tr>\n",
              "<tr>\n",
              "  <th>Kurtosis:</th>      <td> 2.551</td> <th>  Cond. No.          </th> <td>    2.49</td>\n",
              "</tr>\n",
              "</table><br/><br/>Warnings:<br/>[1] Standard Errors assume that the covariance matrix of the errors is correctly specified."
            ],
            "text/plain": [
              "<class 'statsmodels.iolib.summary.Summary'>\n",
              "\"\"\"\n",
              "                            OLS Regression Results                            \n",
              "==============================================================================\n",
              "Dep. Variable:             winpercent   R-squared:                       0.405\n",
              "Model:                            OLS   Adj. R-squared:                  0.398\n",
              "Method:                 Least Squares   F-statistic:                     56.53\n",
              "Date:                Sat, 07 Dec 2019   Prob (F-statistic):           5.86e-11\n",
              "Time:                        11:43:51   Log-Likelihood:                -326.58\n",
              "No. Observations:                  85   AIC:                             657.2\n",
              "Df Residuals:                      83   BIC:                             662.0\n",
              "Df Model:                           1                                         \n",
              "Covariance Type:            nonrobust                                         \n",
              "==============================================================================\n",
              "                 coef    std err          t      P>|t|      [0.025      0.975]\n",
              "------------------------------------------------------------------------------\n",
              "chocolate     18.7793      2.498      7.519      0.000      13.812      23.747\n",
              "Constant      42.1423      1.648     25.574      0.000      38.865      45.420\n",
              "==============================================================================\n",
              "Omnibus:                        0.632   Durbin-Watson:                   1.715\n",
              "Prob(Omnibus):                  0.729   Jarque-Bera (JB):                0.716\n",
              "Skew:                           0.011   Prob(JB):                        0.699\n",
              "Kurtosis:                       2.551   Cond. No.                         2.49\n",
              "==============================================================================\n",
              "\n",
              "Warnings:\n",
              "[1] Standard Errors assume that the covariance matrix of the errors is correctly specified.\n",
              "\"\"\""
            ]
          },
          "metadata": {
            "tags": []
          },
          "execution_count": 62
        }
      ]
    },
    {
      "cell_type": "code",
      "metadata": {
        "id": "2W9hd29hLDm1",
        "colab_type": "code",
        "colab": {
          "base_uri": "https://localhost:8080/",
          "height": 444
        },
        "outputId": "c447bb0c-e243-4f2e-d395-c8d4d1bf4588"
      },
      "source": [
        "m = sm.OLS(data[\"winpercent\"], data[[\"caramel\", \"Constant\"]]).fit()\n",
        "m.summary()"
      ],
      "execution_count": 64,
      "outputs": [
        {
          "output_type": "execute_result",
          "data": {
            "text/html": [
              "<table class=\"simpletable\">\n",
              "<caption>OLS Regression Results</caption>\n",
              "<tr>\n",
              "  <th>Dep. Variable:</th>       <td>winpercent</td>    <th>  R-squared:         </th> <td>   0.046</td>\n",
              "</tr>\n",
              "<tr>\n",
              "  <th>Model:</th>                   <td>OLS</td>       <th>  Adj. R-squared:    </th> <td>   0.034</td>\n",
              "</tr>\n",
              "<tr>\n",
              "  <th>Method:</th>             <td>Least Squares</td>  <th>  F-statistic:       </th> <td>   3.961</td>\n",
              "</tr>\n",
              "<tr>\n",
              "  <th>Date:</th>             <td>Sat, 07 Dec 2019</td> <th>  Prob (F-statistic):</th>  <td>0.0499</td> \n",
              "</tr>\n",
              "<tr>\n",
              "  <th>Time:</th>                 <td>11:44:32</td>     <th>  Log-Likelihood:    </th> <td> -346.68</td>\n",
              "</tr>\n",
              "<tr>\n",
              "  <th>No. Observations:</th>      <td>    85</td>      <th>  AIC:               </th> <td>   697.4</td>\n",
              "</tr>\n",
              "<tr>\n",
              "  <th>Df Residuals:</th>          <td>    83</td>      <th>  BIC:               </th> <td>   702.2</td>\n",
              "</tr>\n",
              "<tr>\n",
              "  <th>Df Model:</th>              <td>     1</td>      <th>                     </th>     <td> </td>   \n",
              "</tr>\n",
              "<tr>\n",
              "  <th>Covariance Type:</th>      <td>nonrobust</td>    <th>                     </th>     <td> </td>   \n",
              "</tr>\n",
              "</table>\n",
              "<table class=\"simpletable\">\n",
              "<tr>\n",
              "      <td></td>        <th>coef</th>     <th>std err</th>      <th>t</th>      <th>P>|t|</th>  <th>[0.025</th>    <th>0.975]</th>  \n",
              "</tr>\n",
              "<tr>\n",
              "  <th>caramel</th>  <td>    8.4164</td> <td>    4.229</td> <td>    1.990</td> <td> 0.050</td> <td>    0.005</td> <td>   16.828</td>\n",
              "</tr>\n",
              "<tr>\n",
              "  <th>Constant</th> <td>   48.9305</td> <td>    1.716</td> <td>   28.510</td> <td> 0.000</td> <td>   45.517</td> <td>   52.344</td>\n",
              "</tr>\n",
              "</table>\n",
              "<table class=\"simpletable\">\n",
              "<tr>\n",
              "  <th>Omnibus:</th>       <td> 1.828</td> <th>  Durbin-Watson:     </th> <td>   1.436</td>\n",
              "</tr>\n",
              "<tr>\n",
              "  <th>Prob(Omnibus):</th> <td> 0.401</td> <th>  Jarque-Bera (JB):  </th> <td>   1.785</td>\n",
              "</tr>\n",
              "<tr>\n",
              "  <th>Skew:</th>          <td> 0.275</td> <th>  Prob(JB):          </th> <td>   0.410</td>\n",
              "</tr>\n",
              "<tr>\n",
              "  <th>Kurtosis:</th>      <td> 2.552</td> <th>  Cond. No.          </th> <td>    2.78</td>\n",
              "</tr>\n",
              "</table><br/><br/>Warnings:<br/>[1] Standard Errors assume that the covariance matrix of the errors is correctly specified."
            ],
            "text/plain": [
              "<class 'statsmodels.iolib.summary.Summary'>\n",
              "\"\"\"\n",
              "                            OLS Regression Results                            \n",
              "==============================================================================\n",
              "Dep. Variable:             winpercent   R-squared:                       0.046\n",
              "Model:                            OLS   Adj. R-squared:                  0.034\n",
              "Method:                 Least Squares   F-statistic:                     3.961\n",
              "Date:                Sat, 07 Dec 2019   Prob (F-statistic):             0.0499\n",
              "Time:                        11:44:32   Log-Likelihood:                -346.68\n",
              "No. Observations:                  85   AIC:                             697.4\n",
              "Df Residuals:                      83   BIC:                             702.2\n",
              "Df Model:                           1                                         \n",
              "Covariance Type:            nonrobust                                         \n",
              "==============================================================================\n",
              "                 coef    std err          t      P>|t|      [0.025      0.975]\n",
              "------------------------------------------------------------------------------\n",
              "caramel        8.4164      4.229      1.990      0.050       0.005      16.828\n",
              "Constant      48.9305      1.716     28.510      0.000      45.517      52.344\n",
              "==============================================================================\n",
              "Omnibus:                        1.828   Durbin-Watson:                   1.436\n",
              "Prob(Omnibus):                  0.401   Jarque-Bera (JB):                1.785\n",
              "Skew:                           0.275   Prob(JB):                        0.410\n",
              "Kurtosis:                       2.552   Cond. No.                         2.78\n",
              "==============================================================================\n",
              "\n",
              "Warnings:\n",
              "[1] Standard Errors assume that the covariance matrix of the errors is correctly specified.\n",
              "\"\"\""
            ]
          },
          "metadata": {
            "tags": []
          },
          "execution_count": 64
        }
      ]
    },
    {
      "cell_type": "code",
      "metadata": {
        "id": "xTOYMzEFHhqt",
        "colab_type": "code",
        "colab": {
          "base_uri": "https://localhost:8080/",
          "height": 102
        },
        "outputId": "6cda0a4e-80e1-4450-cc5e-0be2a59c6346"
      },
      "source": [
        "np.corrcoef([data[\"winpercent\"], data[\"chocolate\"],data[\"fruity\"], data[\"caramel\"], data[\"peanutyalmondy\"]])"
      ],
      "execution_count": 60,
      "outputs": [
        {
          "output_type": "execute_result",
          "data": {
            "text/plain": [
              "array([[ 1.        ,  0.63651675, -0.38093814,  0.2134163 ,  0.4061922 ],\n",
              "       [ 0.63651675,  1.        , -0.74172106,  0.24987535,  0.37782357],\n",
              "       [-0.38093814, -0.74172106,  1.        , -0.33548538, -0.39928014],\n",
              "       [ 0.2134163 ,  0.24987535, -0.33548538,  1.        ,  0.05935614],\n",
              "       [ 0.4061922 ,  0.37782357, -0.39928014,  0.05935614,  1.        ]])"
            ]
          },
          "metadata": {
            "tags": []
          },
          "execution_count": 60
        }
      ]
    },
    {
      "cell_type": "code",
      "metadata": {
        "id": "q41TA_c8HodN",
        "colab_type": "code",
        "colab": {}
      },
      "source": [
        "names = ['winpercent', 'chocolate', 'fruity', 'caramel', \"peanutyalmondy\"]"
      ],
      "execution_count": 0,
      "outputs": []
    },
    {
      "cell_type": "code",
      "metadata": {
        "id": "S-fmfD4uF2if",
        "colab_type": "code",
        "colab": {}
      },
      "source": [
        "corr=np.corrcoef([data[\"winpercent\"], data[\"chocolate\"],data[\"fruity\"], data[\"caramel\"], data[\"peanutyalmondy\"]])"
      ],
      "execution_count": 0,
      "outputs": []
    },
    {
      "cell_type": "code",
      "metadata": {
        "id": "k11DiwWpGEO8",
        "colab_type": "code",
        "colab": {
          "base_uri": "https://localhost:8080/",
          "height": 271
        },
        "outputId": "f4261cd5-bf20-45c2-d485-560a6bca52bd"
      },
      "source": [
        "fig = plt.figure()\n",
        "ax = fig.add_subplot(111)\n",
        "cax = ax.matshow(corr, vmin=-1, vmax=1)\n",
        "fig.colorbar(cax)\n",
        "ticks = np.arange(0,5,1)\n",
        "ax.set_xticks(ticks)\n",
        "ax.set_yticks(ticks)\n",
        "ax.set_xticklabels(names)\n",
        "ax.set_yticklabels(names)\n",
        "plt.show()"
      ],
      "execution_count": 47,
      "outputs": [
        {
          "output_type": "display_data",
          "data": {
            "image/png": "[encoded data removed]",
            "text/plain": [
              "<Figure size 432x288 with 2 Axes>"
            ]
          },
          "metadata": {
            "tags": []
          }
        }
      ]
    },
    {
      "cell_type": "code",
      "metadata": {
        "id": "oaO4J47PMAIP",
        "colab_type": "code",
        "colab": {}
      },
      "source": [
        "names = ['winpercent', 'chocolate', 'fruity', 'caramel', \"peanutyalmondy\"]"
      ],
      "execution_count": 0,
      "outputs": []
    },
    {
      "cell_type": "markdown",
      "metadata": {
        "id": "SUE759pTD-Vs",
        "colab_type": "text"
      },
      "source": [
        "<h2> Computing A Linear Multiple Regression"
      ]
    },
    {
      "cell_type": "code",
      "metadata": {
        "id": "yl0QrdbuiA0E",
        "colab_type": "code",
        "outputId": "9b2598be-b6a3-4d05-bc77-87288ca5ed21",
        "colab": {
          "base_uri": "https://localhost:8080/",
          "height": 612
        }
      },
      "source": [
        "m = sm.OLS(data[\"winpercent\"], data[[\"chocolate\", \"fruity\", \"caramel\", \"peanutyalmondy\", \"nougat\", \"crispedricewafer\", \"hard\", \"bar\", \"pluribus\", \"Constant\"]]).fit()\n",
        "m.summary()"
      ],
      "execution_count": 27,
      "outputs": [
        {
          "output_type": "execute_result",
          "data": {
            "text/html": [
              "<table class=\"simpletable\">\n",
              "<caption>OLS Regression Results</caption>\n",
              "<tr>\n",
              "  <th>Dep. Variable:</th>       <td>winpercent</td>    <th>  R-squared:         </th> <td>   0.515</td>\n",
              "</tr>\n",
              "<tr>\n",
              "  <th>Model:</th>                   <td>OLS</td>       <th>  Adj. R-squared:    </th> <td>   0.457</td>\n",
              "</tr>\n",
              "<tr>\n",
              "  <th>Method:</th>             <td>Least Squares</td>  <th>  F-statistic:       </th> <td>   8.842</td>\n",
              "</tr>\n",
              "<tr>\n",
              "  <th>Date:</th>             <td>Sat, 07 Dec 2019</td> <th>  Prob (F-statistic):</th> <td>6.05e-09</td>\n",
              "</tr>\n",
              "<tr>\n",
              "  <th>Time:</th>                 <td>11:12:54</td>     <th>  Log-Likelihood:    </th> <td> -317.92</td>\n",
              "</tr>\n",
              "<tr>\n",
              "  <th>No. Observations:</th>      <td>    85</td>      <th>  AIC:               </th> <td>   655.8</td>\n",
              "</tr>\n",
              "<tr>\n",
              "  <th>Df Residuals:</th>          <td>    75</td>      <th>  BIC:               </th> <td>   680.3</td>\n",
              "</tr>\n",
              "<tr>\n",
              "  <th>Df Model:</th>              <td>     9</td>      <th>                     </th>     <td> </td>   \n",
              "</tr>\n",
              "<tr>\n",
              "  <th>Covariance Type:</th>      <td>nonrobust</td>    <th>                     </th>     <td> </td>   \n",
              "</tr>\n",
              "</table>\n",
              "<table class=\"simpletable\">\n",
              "<tr>\n",
              "          <td></td>            <th>coef</th>     <th>std err</th>      <th>t</th>      <th>P>|t|</th>  <th>[0.025</th>    <th>0.975]</th>  \n",
              "</tr>\n",
              "<tr>\n",
              "  <th>chocolate</th>        <td>   19.9058</td> <td>    3.897</td> <td>    5.107</td> <td> 0.000</td> <td>   12.142</td> <td>   27.670</td>\n",
              "</tr>\n",
              "<tr>\n",
              "  <th>fruity</th>           <td>   10.2677</td> <td>    3.789</td> <td>    2.710</td> <td> 0.008</td> <td>    2.720</td> <td>   17.815</td>\n",
              "</tr>\n",
              "<tr>\n",
              "  <th>caramel</th>          <td>    3.3843</td> <td>    3.603</td> <td>    0.939</td> <td> 0.351</td> <td>   -3.794</td> <td>   10.563</td>\n",
              "</tr>\n",
              "<tr>\n",
              "  <th>peanutyalmondy</th>   <td>   10.1410</td> <td>    3.595</td> <td>    2.821</td> <td> 0.006</td> <td>    2.980</td> <td>   17.302</td>\n",
              "</tr>\n",
              "<tr>\n",
              "  <th>nougat</th>           <td>    2.4163</td> <td>    5.690</td> <td>    0.425</td> <td> 0.672</td> <td>   -8.918</td> <td>   13.751</td>\n",
              "</tr>\n",
              "<tr>\n",
              "  <th>crispedricewafer</th> <td>    8.9915</td> <td>    5.328</td> <td>    1.688</td> <td> 0.096</td> <td>   -1.622</td> <td>   19.605</td>\n",
              "</tr>\n",
              "<tr>\n",
              "  <th>hard</th>             <td>   -4.8726</td> <td>    3.439</td> <td>   -1.417</td> <td> 0.161</td> <td>  -11.724</td> <td>    1.979</td>\n",
              "</tr>\n",
              "<tr>\n",
              "  <th>bar</th>              <td>   -0.7220</td> <td>    4.871</td> <td>   -0.148</td> <td> 0.883</td> <td>  -10.425</td> <td>    8.981</td>\n",
              "</tr>\n",
              "<tr>\n",
              "  <th>pluribus</th>         <td>   -0.1599</td> <td>    3.012</td> <td>   -0.053</td> <td> 0.958</td> <td>   -6.159</td> <td>    5.839</td>\n",
              "</tr>\n",
              "<tr>\n",
              "  <th>Constant</th>         <td>   35.0155</td> <td>    4.078</td> <td>    8.586</td> <td> 0.000</td> <td>   26.891</td> <td>   43.140</td>\n",
              "</tr>\n",
              "</table>\n",
              "<table class=\"simpletable\">\n",
              "<tr>\n",
              "  <th>Omnibus:</th>       <td> 1.753</td> <th>  Durbin-Watson:     </th> <td>   1.801</td>\n",
              "</tr>\n",
              "<tr>\n",
              "  <th>Prob(Omnibus):</th> <td> 0.416</td> <th>  Jarque-Bera (JB):  </th> <td>   1.697</td>\n",
              "</tr>\n",
              "<tr>\n",
              "  <th>Skew:</th>          <td>-0.258</td> <th>  Prob(JB):          </th> <td>   0.428</td>\n",
              "</tr>\n",
              "<tr>\n",
              "  <th>Kurtosis:</th>      <td> 2.538</td> <th>  Cond. No.          </th> <td>    8.59</td>\n",
              "</tr>\n",
              "</table><br/><br/>Warnings:<br/>[1] Standard Errors assume that the covariance matrix of the errors is correctly specified."
            ],
            "text/plain": [
              "<class 'statsmodels.iolib.summary.Summary'>\n",
              "\"\"\"\n",
              "                            OLS Regression Results                            \n",
              "==============================================================================\n",
              "Dep. Variable:             winpercent   R-squared:                       0.515\n",
              "Model:                            OLS   Adj. R-squared:                  0.457\n",
              "Method:                 Least Squares   F-statistic:                     8.842\n",
              "Date:                Sat, 07 Dec 2019   Prob (F-statistic):           6.05e-09\n",
              "Time:                        11:12:54   Log-Likelihood:                -317.92\n",
              "No. Observations:                  85   AIC:                             655.8\n",
              "Df Residuals:                      75   BIC:                             680.3\n",
              "Df Model:                           9                                         \n",
              "Covariance Type:            nonrobust                                         \n",
              "====================================================================================\n",
              "                       coef    std err          t      P>|t|      [0.025      0.975]\n",
              "------------------------------------------------------------------------------------\n",
              "chocolate           19.9058      3.897      5.107      0.000      12.142      27.670\n",
              "fruity              10.2677      3.789      2.710      0.008       2.720      17.815\n",
              "caramel              3.3843      3.603      0.939      0.351      -3.794      10.563\n",
              "peanutyalmondy      10.1410      3.595      2.821      0.006       2.980      17.302\n",
              "nougat               2.4163      5.690      0.425      0.672      -8.918      13.751\n",
              "crispedricewafer     8.9915      5.328      1.688      0.096      -1.622      19.605\n",
              "hard                -4.8726      3.439     -1.417      0.161     -11.724       1.979\n",
              "bar                 -0.7220      4.871     -0.148      0.883     -10.425       8.981\n",
              "pluribus            -0.1599      3.012     -0.053      0.958      -6.159       5.839\n",
              "Constant            35.0155      4.078      8.586      0.000      26.891      43.140\n",
              "==============================================================================\n",
              "Omnibus:                        1.753   Durbin-Watson:                   1.801\n",
              "Prob(Omnibus):                  0.416   Jarque-Bera (JB):                1.697\n",
              "Skew:                          -0.258   Prob(JB):                        0.428\n",
              "Kurtosis:                       2.538   Cond. No.                         8.59\n",
              "==============================================================================\n",
              "\n",
              "Warnings:\n",
              "[1] Standard Errors assume that the covariance matrix of the errors is correctly specified.\n",
              "\"\"\""
            ]
          },
          "metadata": {
            "tags": []
          },
          "execution_count": 27
        }
      ]
    },
    {
      "cell_type": "markdown",
      "metadata": {
        "id": "77DHVQOliA0G",
        "colab_type": "text"
      },
      "source": [
        "While there are lots of numbers here, a few confirm what we could probably tell from linear inspection: overall, this is a good model:\n",
        "\n",
        "- The <b>R-squared</b>, which is the squared correlation coefficient, is 51.5%, which is pretty good for a linear model.  Just how good is given by the variables. <b>F-statistic</b>, which roughly tells us how implausible it would be to see such a high correlation that we happen to have here, under the assumption that there is actually no correlation between the two.  The actual probability is given by the <b>P-value</b> of the F-statistic, which is very close to zero.  This means the probability of seeing a relationship this strong if in truth one did not exist is less than the probability that you could pick one atom out of all of the atoms in the universe.\n"
      ]
    },
    {
      "cell_type": "markdown",
      "metadata": {
        "id": "J1dqilSmYbnc",
        "colab_type": "text"
      },
      "source": [
        "#### **Linear Model Assumptions and Residual Analysis**"
      ]
    },
    {
      "cell_type": "markdown",
      "metadata": {
        "id": "RcF8XIRgiA0N",
        "colab_type": "text"
      },
      "source": [
        "\n",
        "\n",
        "The linear model makes two critical assumptions (there are others, but these are two of the most important):\n",
        "\n",
        "- <b>Homoskedasticity</b>: This is a fancy way of saying that the variance of the errors is the same no matter what the value of the predictor variable is.  In other words, the predicted range of Life Ladder is about as wide a country with 100 GDP or a country with 10,000 GDP.\n",
        "- <b>Independence of errors</b>: This means that knowing how much the model gets Life Ladder of one country wrong shouldn't tell us anything about how much the model gets wrong the Life Ladder of other countries.\n",
        "\n",
        "Both of these assumptions are quite strong and **rarely hold in practice**: the goal is more to make sure they hold reasonably well.  Let's look at the residuals to see how well they hold:"
      ]
    },
    {
      "cell_type": "code",
      "metadata": {
        "id": "xykcpvHSiA0O",
        "colab_type": "code",
        "outputId": "53e6b222-2f4b-44cf-ebbd-14e324ca2caa",
        "colab": {
          "base_uri": "https://localhost:8080/",
          "height": 403
        }
      },
      "source": [
        "data[\"Residual\"] = m.resid\n",
        "data.sort_values('Log GDP per capita', inplace=True)\n",
        "fig = plt.figure(figsize=(10, 6))\n",
        "plt.plot(data[\"Log GDP per capita\"], data[\"Residual\"], \"go-\", markersize=4)\n",
        "plt.xlabel(\"Log GDP per capita\")\n",
        "plt.ylabel(\"Actual minus Predicted Life Ladder\")\n",
        "plt.title(\"Log GDP per capita versus Residual Life Ladder\")\n",
        "plt.grid()"
      ],
      "execution_count": 0,
      "outputs": [
        {
          "output_type": "display_data",
          "data": {
            "image/png": "[encoded data removed]",
            "text/plain": [
              "<Figure size 720x432 with 1 Axes>"
            ]
          },
          "metadata": {
            "tags": []
          }
        }
      ]
    },
    {
      "cell_type": "markdown",
      "metadata": {
        "id": "ZaawSNFStF6R",
        "colab_type": "text"
      },
      "source": [
        "**Exercise:** Find the factor that describes happiness the best"
      ]
    }
  ]
}
