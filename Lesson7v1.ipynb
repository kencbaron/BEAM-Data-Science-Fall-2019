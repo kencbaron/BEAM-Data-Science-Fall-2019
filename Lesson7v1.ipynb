{
  "nbformat": 4,
  "nbformat_minor": 0,
  "metadata": {
    "colab": {
      "name": "05_linear_regression.ipynb",
      "provenance": [],
      "include_colab_link": true
    },
    "kernelspec": {
      "display_name": "Python 3",
      "language": "python",
      "name": "python3"
    }
  },
  "cells": [
    {
      "cell_type": "markdown",
      "metadata": {
        "id": "view-in-github",
        "colab_type": "text"
      },
      "source": [
        "<a href=\"https://colab.research.google.com/github/kencbaron/BEAM-Data-Science-Fall-2019/blob/master/Lesson7v1.ipynb\" target=\"_parent\"><img src=\"https://colab.research.google.com/assets/colab-badge.svg\" alt=\"Open In Colab\"/></a>"
      ]
    },
    {
      "cell_type": "markdown",
      "metadata": {
        "id": "6gb9hTmhiAzC",
        "colab_type": "text"
      },
      "source": [
        "<h1> Continuation - Linear Regression</h1>"
      ]
    },
    {
      "cell_type": "markdown",
      "metadata": {
        "id": "9r-3DuWFiAzE",
        "colab_type": "text"
      },
      "source": [
        "<h2>Key Concepts</h2>\n",
        "\n",
        "- Fit a linear model\n",
        "- Goodness of fit of a regression model\n"
      ]
    },
    {
      "cell_type": "markdown",
      "metadata": {
        "id": "yIE_TuiKiAzE",
        "colab_type": "text"
      },
      "source": [
        "<h2> Shout Outs to Colleagues </h2>\n",
        "\n",
        "Walt H (538), Harold F and Peter T. And Aditi K, Greg S, Jinger Z, Steven K, and Xufei W\n",
        "\n",
        "\n",
        "\n",
        "<h2>Loading Statistics Packages </h2>"
      ]
    },
    {
      "cell_type": "markdown",
      "metadata": {
        "id": "_m37GPWtiAzF",
        "colab_type": "text"
      },
      "source": [
        "As usual, we load some helpful Python statistics packages:\n",
        "\n",
        "- Pandas is a general purpose package for data analysis, particularly datasets that are measured over time (*pan*el *da*taset*s*)\n",
        "- Numpy is a package for easily manipulating matrices and includes some basic multivariate statistics and linear algebra functions\n",
        "- Matplotlib is a package for plotting data\n"
      ]
    },
    {
      "cell_type": "code",
      "metadata": {
        "id": "c0VeOkVGiAzG",
        "colab_type": "code",
        "colab": {}
      },
      "source": [
        "import pandas as pd # loading Pandas, a module for data analysis\n",
        "import numpy as np # loading Numpy, a module for matrices and linear algebra\n",
        "import matplotlib.pyplot as plt # loading matplotlib.pyplot, a module useful for interactiveplotting\n",
        "import warnings; warnings.simplefilter('ignore')  # suppressing warnings "
      ],
      "execution_count": 0,
      "outputs": []
    },
    {
      "cell_type": "code",
      "metadata": {
        "id": "BpSaSnVkC73B",
        "colab_type": "code",
        "outputId": "7133e380-c12a-4690-bd9f-ae34f65ffd86",
        "colab": {
          "base_uri": "https://localhost:8080/",
          "height": 153
        }
      },
      "source": [
        "!git clone https://@github.com/kencbaron/data # cloning an existing github repository"
      ],
      "execution_count": 2,
      "outputs": [
        {
          "output_type": "stream",
          "text": [
            "Cloning into 'data'...\n",
            "remote: Enumerating objects: 38, done.\u001b[K\n",
            "remote: Counting objects: 100% (38/38), done.\u001b[K\n",
            "remote: Compressing objects: 100% (32/32), done.\u001b[K\n",
            "remote: Total 4862 (delta 13), reused 15 (delta 5), pack-reused 4824\u001b[K\n",
            "Receiving objects: 100% (4862/4862), 82.45 MiB | 19.84 MiB/s, done.\n",
            "Resolving deltas: 100% (2339/2339), done.\n",
            "Checking out files: 100% (788/788), done.\n"
          ],
          "name": "stdout"
        }
      ]
    },
    {
      "cell_type": "code",
      "metadata": {
        "id": "-XfE7QiFiAzK",
        "colab_type": "code",
        "colab": {}
      },
      "source": [
        "data_all = pd.read_csv(\"data/candy-power-ranking/candy-data.csv\") # reading our csv dataset into the variable name data_all # using Pandas to load data\n"
      ],
      "execution_count": 0,
      "outputs": []
    },
    {
      "cell_type": "code",
      "metadata": {
        "id": "vB5w95UpQlMK",
        "colab_type": "code",
        "colab": {
          "base_uri": "https://localhost:8080/",
          "height": 419
        },
        "outputId": "cf90cf47-5391-4701-e80b-84dacc89a176"
      },
      "source": [
        "data_all"
      ],
      "execution_count": 6,
      "outputs": [
        {
          "output_type": "execute_result",
          "data": {
            "text/html": [
              "<div>\n",
              "<style scoped>\n",
              "    .dataframe tbody tr th:only-of-type {\n",
              "        vertical-align: middle;\n",
              "    }\n",
              "\n",
              "    .dataframe tbody tr th {\n",
              "        vertical-align: top;\n",
              "    }\n",
              "\n",
              "    .dataframe thead th {\n",
              "        text-align: right;\n",
              "    }\n",
              "</style>\n",
              "<table border=\"1\" class=\"dataframe\">\n",
              "  <thead>\n",
              "    <tr style=\"text-align: right;\">\n",
              "      <th></th>\n",
              "      <th>competitorname</th>\n",
              "      <th>chocolate</th>\n",
              "      <th>fruity</th>\n",
              "      <th>caramel</th>\n",
              "      <th>peanutyalmondy</th>\n",
              "      <th>nougat</th>\n",
              "      <th>crispedricewafer</th>\n",
              "      <th>hard</th>\n",
              "      <th>bar</th>\n",
              "      <th>pluribus</th>\n",
              "      <th>sugarpercent</th>\n",
              "      <th>pricepercent</th>\n",
              "      <th>winpercent</th>\n",
              "    </tr>\n",
              "  </thead>\n",
              "  <tbody>\n",
              "    <tr>\n",
              "      <th>0</th>\n",
              "      <td>100 Grand</td>\n",
              "      <td>1</td>\n",
              "      <td>0</td>\n",
              "      <td>1</td>\n",
              "      <td>0</td>\n",
              "      <td>0</td>\n",
              "      <td>1</td>\n",
              "      <td>0</td>\n",
              "      <td>1</td>\n",
              "      <td>0</td>\n",
              "      <td>0.732</td>\n",
              "      <td>0.860</td>\n",
              "      <td>66.971725</td>\n",
              "    </tr>\n",
              "    <tr>\n",
              "      <th>1</th>\n",
              "      <td>3 Musketeers</td>\n",
              "      <td>1</td>\n",
              "      <td>0</td>\n",
              "      <td>0</td>\n",
              "      <td>0</td>\n",
              "      <td>1</td>\n",
              "      <td>0</td>\n",
              "      <td>0</td>\n",
              "      <td>1</td>\n",
              "      <td>0</td>\n",
              "      <td>0.604</td>\n",
              "      <td>0.511</td>\n",
              "      <td>67.602936</td>\n",
              "    </tr>\n",
              "    <tr>\n",
              "      <th>2</th>\n",
              "      <td>One dime</td>\n",
              "      <td>0</td>\n",
              "      <td>0</td>\n",
              "      <td>0</td>\n",
              "      <td>0</td>\n",
              "      <td>0</td>\n",
              "      <td>0</td>\n",
              "      <td>0</td>\n",
              "      <td>0</td>\n",
              "      <td>0</td>\n",
              "      <td>0.011</td>\n",
              "      <td>0.116</td>\n",
              "      <td>32.261086</td>\n",
              "    </tr>\n",
              "    <tr>\n",
              "      <th>3</th>\n",
              "      <td>One quarter</td>\n",
              "      <td>0</td>\n",
              "      <td>0</td>\n",
              "      <td>0</td>\n",
              "      <td>0</td>\n",
              "      <td>0</td>\n",
              "      <td>0</td>\n",
              "      <td>0</td>\n",
              "      <td>0</td>\n",
              "      <td>0</td>\n",
              "      <td>0.011</td>\n",
              "      <td>0.511</td>\n",
              "      <td>46.116505</td>\n",
              "    </tr>\n",
              "    <tr>\n",
              "      <th>4</th>\n",
              "      <td>Air Heads</td>\n",
              "      <td>0</td>\n",
              "      <td>1</td>\n",
              "      <td>0</td>\n",
              "      <td>0</td>\n",
              "      <td>0</td>\n",
              "      <td>0</td>\n",
              "      <td>0</td>\n",
              "      <td>0</td>\n",
              "      <td>0</td>\n",
              "      <td>0.906</td>\n",
              "      <td>0.511</td>\n",
              "      <td>52.341465</td>\n",
              "    </tr>\n",
              "    <tr>\n",
              "      <th>...</th>\n",
              "      <td>...</td>\n",
              "      <td>...</td>\n",
              "      <td>...</td>\n",
              "      <td>...</td>\n",
              "      <td>...</td>\n",
              "      <td>...</td>\n",
              "      <td>...</td>\n",
              "      <td>...</td>\n",
              "      <td>...</td>\n",
              "      <td>...</td>\n",
              "      <td>...</td>\n",
              "      <td>...</td>\n",
              "      <td>...</td>\n",
              "    </tr>\n",
              "    <tr>\n",
              "      <th>80</th>\n",
              "      <td>Twizzlers</td>\n",
              "      <td>0</td>\n",
              "      <td>1</td>\n",
              "      <td>0</td>\n",
              "      <td>0</td>\n",
              "      <td>0</td>\n",
              "      <td>0</td>\n",
              "      <td>0</td>\n",
              "      <td>0</td>\n",
              "      <td>0</td>\n",
              "      <td>0.220</td>\n",
              "      <td>0.116</td>\n",
              "      <td>45.466282</td>\n",
              "    </tr>\n",
              "    <tr>\n",
              "      <th>81</th>\n",
              "      <td>Warheads</td>\n",
              "      <td>0</td>\n",
              "      <td>1</td>\n",
              "      <td>0</td>\n",
              "      <td>0</td>\n",
              "      <td>0</td>\n",
              "      <td>0</td>\n",
              "      <td>1</td>\n",
              "      <td>0</td>\n",
              "      <td>0</td>\n",
              "      <td>0.093</td>\n",
              "      <td>0.116</td>\n",
              "      <td>39.011898</td>\n",
              "    </tr>\n",
              "    <tr>\n",
              "      <th>82</th>\n",
              "      <td>WelchÕs Fruit Snacks</td>\n",
              "      <td>0</td>\n",
              "      <td>1</td>\n",
              "      <td>0</td>\n",
              "      <td>0</td>\n",
              "      <td>0</td>\n",
              "      <td>0</td>\n",
              "      <td>0</td>\n",
              "      <td>0</td>\n",
              "      <td>1</td>\n",
              "      <td>0.313</td>\n",
              "      <td>0.313</td>\n",
              "      <td>44.375519</td>\n",
              "    </tr>\n",
              "    <tr>\n",
              "      <th>83</th>\n",
              "      <td>WertherÕs Original Caramel</td>\n",
              "      <td>0</td>\n",
              "      <td>0</td>\n",
              "      <td>1</td>\n",
              "      <td>0</td>\n",
              "      <td>0</td>\n",
              "      <td>0</td>\n",
              "      <td>1</td>\n",
              "      <td>0</td>\n",
              "      <td>0</td>\n",
              "      <td>0.186</td>\n",
              "      <td>0.267</td>\n",
              "      <td>41.904308</td>\n",
              "    </tr>\n",
              "    <tr>\n",
              "      <th>84</th>\n",
              "      <td>Whoppers</td>\n",
              "      <td>1</td>\n",
              "      <td>0</td>\n",
              "      <td>0</td>\n",
              "      <td>0</td>\n",
              "      <td>0</td>\n",
              "      <td>1</td>\n",
              "      <td>0</td>\n",
              "      <td>0</td>\n",
              "      <td>1</td>\n",
              "      <td>0.872</td>\n",
              "      <td>0.848</td>\n",
              "      <td>49.524113</td>\n",
              "    </tr>\n",
              "  </tbody>\n",
              "</table>\n",
              "<p>85 rows × 13 columns</p>\n",
              "</div>"
            ],
            "text/plain": [
              "                competitorname  chocolate  ...  pricepercent  winpercent\n",
              "0                    100 Grand          1  ...         0.860   66.971725\n",
              "1                 3 Musketeers          1  ...         0.511   67.602936\n",
              "2                     One dime          0  ...         0.116   32.261086\n",
              "3                  One quarter          0  ...         0.511   46.116505\n",
              "4                    Air Heads          0  ...         0.511   52.341465\n",
              "..                         ...        ...  ...           ...         ...\n",
              "80                   Twizzlers          0  ...         0.116   45.466282\n",
              "81                    Warheads          0  ...         0.116   39.011898\n",
              "82        WelchÕs Fruit Snacks          0  ...         0.313   44.375519\n",
              "83  WertherÕs Original Caramel          0  ...         0.267   41.904308\n",
              "84                    Whoppers          1  ...         0.848   49.524113\n",
              "\n",
              "[85 rows x 13 columns]"
            ]
          },
          "metadata": {
            "tags": []
          },
          "execution_count": 6
        }
      ]
    },
    {
      "cell_type": "code",
      "metadata": {
        "id": "3hvBnOOPUdOh",
        "colab_type": "code",
        "colab": {}
      },
      "source": [
        ""
      ],
      "execution_count": 0,
      "outputs": []
    },
    {
      "cell_type": "markdown",
      "metadata": {
        "id": "FJ2qTbxviAzy",
        "colab_type": "text"
      },
      "source": [
        "<h2>Fit a Linear Model</h2>"
      ]
    },
    {
      "cell_type": "markdown",
      "metadata": {
        "id": "MroxSK1diAzz",
        "colab_type": "text"
      },
      "source": [
        "Our goal in this section is to find a linear model between Log GDP per capita and Life Ladder.  The linear model has the form\n",
        "\n",
        "$$ \\mathrm{LifeLadder} = a \\cdot \\mathrm{LogGDPPerCapita} + b $$\n",
        "\n",
        "We call $a$ the <b>slope</b> and $b$ the <b>intercept</b>.  The animation below shows different linear models superimposed on the data."
      ]
    },
    {
      "cell_type": "markdown",
      "metadata": {
        "id": "7nyCE_ufiA0A",
        "colab_type": "text"
      },
      "source": [
        "Now we can finally see what the optimal fit is."
      ]
    },
    {
      "cell_type": "code",
      "metadata": {
        "id": "GOqmRo6BiA0A",
        "colab_type": "code",
        "outputId": "c8ae50f0-110c-451d-f1c9-4094dfc18a66",
        "colab": {
          "base_uri": "https://localhost:8080/",
          "height": 438
        }
      },
      "source": [
        "slope_opt = data[\"Log GDP per capita\"].cov(data[\"Life Ladder\"]) / data[\"Log GDP per capita\"].var()\n",
        "intercept_opt = data[\"Life Ladder\"].mean() - slope_opt * data[\"Log GDP per capita\"].mean()\n",
        "\n",
        "print(\"Optimal slope: {}\".format(slope_opt))\n",
        "print(\"Optimal intercept: {}\".format(intercept_opt))\n",
        "\n",
        "fig = plt.figure(figsize=(10, 6))\n",
        "plt.plot(data[\"Log GDP per capita\"], data[\"Life Ladder\"], \"o\", markersize=4)\n",
        "plt.xlabel(\"Log GDP per capita\")\n",
        "plt.ylabel(\"Life Ladder\")\n",
        "plt.title(\"Life Ladder versus Log GDP per capita\")\n",
        "plt.grid()\n",
        "\n",
        "xvals = np.arange(data['Log GDP per capita'].max())\n",
        "yvals = slope_opt * xvals + intercept_opt\n",
        "plt.plot(xvals, yvals, color=\"r\")\n",
        "fig.canvas.draw()"
      ],
      "execution_count": 0,
      "outputs": [
        {
          "output_type": "stream",
          "text": [
            "Optimal slope: 0.7861435287365188\n",
            "Optimal intercept: -1.893938972103494\n"
          ],
          "name": "stdout"
        },
        {
          "output_type": "display_data",
          "data": {
            "image/png": "[encoded data removed]",
            "text/plain": [
              "<Figure size 720x432 with 1 Axes>"
            ]
          },
          "metadata": {
            "tags": []
          }
        }
      ]
    },
    {
      "cell_type": "markdown",
      "metadata": {
        "id": "XtL0po56iA0D",
        "colab_type": "text"
      },
      "source": [
        "<h2>Checking the Goodness of Fit of our Regression </h2>"
      ]
    },
    {
      "cell_type": "markdown",
      "metadata": {
        "id": "nbQzx85KiA0D",
        "colab_type": "text"
      },
      "source": [
        "Now that we have our linear model, how do we tell if it's any good?  While we computed the slope and intercept by hand above, let's try doing this within the Python package **StatsModels**, which will give us a few extra things for free:\n",
        "\n",
        "**StatsModels** is a Python module that provides classes and functions for the estimation of many different statistical models, as well as for conducting statistical tests"
      ]
    },
    {
      "cell_type": "code",
      "metadata": {
        "id": "yl0QrdbuiA0E",
        "colab_type": "code",
        "outputId": "b52b3eef-c65e-4a15-f20e-28f5235fae43",
        "colab": {
          "base_uri": "https://localhost:8080/",
          "height": 426
        }
      },
      "source": [
        "import statsmodels.api as sm\n",
        "data[\"Constant\"] = 1\n",
        "m = sm.OLS(data[\"Life Ladder\"], data[[\"Log GDP per capita\", \"Constant\"]]).fit()\n",
        "m.summary()"
      ],
      "execution_count": 0,
      "outputs": [
        {
          "output_type": "execute_result",
          "data": {
            "text/html": [
              "<table class=\"simpletable\">\n",
              "<caption>OLS Regression Results</caption>\n",
              "<tr>\n",
              "  <th>Dep. Variable:</th>       <td>Life Ladder</td>   <th>  R-squared:         </th> <td>   0.660</td>\n",
              "</tr>\n",
              "<tr>\n",
              "  <th>Model:</th>                   <td>OLS</td>       <th>  Adj. R-squared:    </th> <td>   0.657</td>\n",
              "</tr>\n",
              "<tr>\n",
              "  <th>Method:</th>             <td>Least Squares</td>  <th>  F-statistic:       </th> <td>   236.9</td>\n",
              "</tr>\n",
              "<tr>\n",
              "  <th>Date:</th>             <td>Sat, 09 Nov 2019</td> <th>  Prob (F-statistic):</th> <td>2.28e-30</td>\n",
              "</tr>\n",
              "<tr>\n",
              "  <th>Time:</th>                 <td>12:36:10</td>     <th>  Log-Likelihood:    </th> <td> -129.99</td>\n",
              "</tr>\n",
              "<tr>\n",
              "  <th>No. Observations:</th>      <td>   124</td>      <th>  AIC:               </th> <td>   264.0</td>\n",
              "</tr>\n",
              "<tr>\n",
              "  <th>Df Residuals:</th>          <td>   122</td>      <th>  BIC:               </th> <td>   269.6</td>\n",
              "</tr>\n",
              "<tr>\n",
              "  <th>Df Model:</th>              <td>     1</td>      <th>                     </th>     <td> </td>   \n",
              "</tr>\n",
              "<tr>\n",
              "  <th>Covariance Type:</th>      <td>nonrobust</td>    <th>                     </th>     <td> </td>   \n",
              "</tr>\n",
              "</table>\n",
              "<table class=\"simpletable\">\n",
              "<tr>\n",
              "           <td></td>             <th>coef</th>     <th>std err</th>      <th>t</th>      <th>P>|t|</th>  <th>[0.025</th>    <th>0.975]</th>  \n",
              "</tr>\n",
              "<tr>\n",
              "  <th>Log GDP per capita</th> <td>    0.7861</td> <td>    0.051</td> <td>   15.392</td> <td> 0.000</td> <td>    0.685</td> <td>    0.887</td>\n",
              "</tr>\n",
              "<tr>\n",
              "  <th>Constant</th>           <td>   -1.8939</td> <td>    0.476</td> <td>   -3.977</td> <td> 0.000</td> <td>   -2.837</td> <td>   -0.951</td>\n",
              "</tr>\n",
              "</table>\n",
              "<table class=\"simpletable\">\n",
              "<tr>\n",
              "  <th>Omnibus:</th>       <td> 1.306</td> <th>  Durbin-Watson:     </th> <td>   2.074</td>\n",
              "</tr>\n",
              "<tr>\n",
              "  <th>Prob(Omnibus):</th> <td> 0.521</td> <th>  Jarque-Bera (JB):  </th> <td>   1.379</td>\n",
              "</tr>\n",
              "<tr>\n",
              "  <th>Skew:</th>          <td>-0.231</td> <th>  Prob(JB):          </th> <td>   0.502</td>\n",
              "</tr>\n",
              "<tr>\n",
              "  <th>Kurtosis:</th>      <td> 2.769</td> <th>  Cond. No.          </th> <td>    71.9</td>\n",
              "</tr>\n",
              "</table><br/><br/>Warnings:<br/>[1] Standard Errors assume that the covariance matrix of the errors is correctly specified."
            ],
            "text/plain": [
              "<class 'statsmodels.iolib.summary.Summary'>\n",
              "\"\"\"\n",
              "                            OLS Regression Results                            \n",
              "==============================================================================\n",
              "Dep. Variable:            Life Ladder   R-squared:                       0.660\n",
              "Model:                            OLS   Adj. R-squared:                  0.657\n",
              "Method:                 Least Squares   F-statistic:                     236.9\n",
              "Date:                Sat, 09 Nov 2019   Prob (F-statistic):           2.28e-30\n",
              "Time:                        12:36:10   Log-Likelihood:                -129.99\n",
              "No. Observations:                 124   AIC:                             264.0\n",
              "Df Residuals:                     122   BIC:                             269.6\n",
              "Df Model:                           1                                         \n",
              "Covariance Type:            nonrobust                                         \n",
              "======================================================================================\n",
              "                         coef    std err          t      P>|t|      [0.025      0.975]\n",
              "--------------------------------------------------------------------------------------\n",
              "Log GDP per capita     0.7861      0.051     15.392      0.000       0.685       0.887\n",
              "Constant              -1.8939      0.476     -3.977      0.000      -2.837      -0.951\n",
              "==============================================================================\n",
              "Omnibus:                        1.306   Durbin-Watson:                   2.074\n",
              "Prob(Omnibus):                  0.521   Jarque-Bera (JB):                1.379\n",
              "Skew:                          -0.231   Prob(JB):                        0.502\n",
              "Kurtosis:                       2.769   Cond. No.                         71.9\n",
              "==============================================================================\n",
              "\n",
              "Warnings:\n",
              "[1] Standard Errors assume that the covariance matrix of the errors is correctly specified.\n",
              "\"\"\""
            ]
          },
          "metadata": {
            "tags": []
          },
          "execution_count": 39
        }
      ]
    },
    {
      "cell_type": "markdown",
      "metadata": {
        "id": "77DHVQOliA0G",
        "colab_type": "text"
      },
      "source": [
        "While there are lots of numbers here, a few confirm what we could probably tell from linear inspection: overall, this is a good model:\n",
        "\n",
        "- The <b>R-squared</b>, which is the squared correlation coefficient, is 66.0%, which is pretty good for a linear model.  Just how good is given by the <b>F-statistic</b>, which roughly tells us how implausible it would be to see such a high correlation between the Log GDP per capita and Life Ladder that we happen to have here, under the assumption that there is actually no correlation between the two.  The actual probability is given by the <b>P-value</b> of the F-statistic, which is less than $10^{-29}$.  This means the probability of seeing a relationship this strong if in truth one did not exist is less than the probability that you could pick one atom out of all of the atoms in the universe.\n",
        "- While the R-squared gives an idea of how good the overall linear model is, we can look at the next table to see how much the Log GDP per capita and the intercept (constant) contribute to the model.  For example, maybe we don't need to bother with a constant term at all and just looking at the $a \\cdot \\mathrm{(Log\\ GDP\\ per\\ capita)}$ part of the model would be good enough.  However, the p-values on both of these variables are quite small, which tells us that both pieces of the model have a statistically significant contribution."
      ]
    },
    {
      "cell_type": "markdown",
      "metadata": {
        "id": "J1dqilSmYbnc",
        "colab_type": "text"
      },
      "source": [
        "#### **Linear Model Assumptions and Residual Analysis**"
      ]
    },
    {
      "cell_type": "markdown",
      "metadata": {
        "id": "RcF8XIRgiA0N",
        "colab_type": "text"
      },
      "source": [
        "\n",
        "\n",
        "The linear model makes two critical assumptions (there are others, but these are two of the most important):\n",
        "\n",
        "- <b>Homoskedasticity</b>: This is a fancy way of saying that the variance of the errors is the same no matter what the value of the predictor variable is.  In other words, the predicted range of Life Ladder is about as wide a country with 100 GDP or a country with 10,000 GDP.\n",
        "- <b>Independence of errors</b>: This means that knowing how much the model gets Life Ladder of one country wrong shouldn't tell us anything about how much the model gets wrong the Life Ladder of other countries.\n",
        "\n",
        "Both of these assumptions are quite strong and **rarely hold in practice**: the goal is more to make sure they hold reasonably well.  Let's look at the residuals to see how well they hold:"
      ]
    },
    {
      "cell_type": "code",
      "metadata": {
        "id": "xykcpvHSiA0O",
        "colab_type": "code",
        "outputId": "53e6b222-2f4b-44cf-ebbd-14e324ca2caa",
        "colab": {
          "base_uri": "https://localhost:8080/",
          "height": 403
        }
      },
      "source": [
        "data[\"Residual\"] = m.resid\n",
        "data.sort_values('Log GDP per capita', inplace=True)\n",
        "fig = plt.figure(figsize=(10, 6))\n",
        "plt.plot(data[\"Log GDP per capita\"], data[\"Residual\"], \"go-\", markersize=4)\n",
        "plt.xlabel(\"Log GDP per capita\")\n",
        "plt.ylabel(\"Actual minus Predicted Life Ladder\")\n",
        "plt.title(\"Log GDP per capita versus Residual Life Ladder\")\n",
        "plt.grid()"
      ],
      "execution_count": 0,
      "outputs": [
        {
          "output_type": "display_data",
          "data": {
            "image/png": "[encoded data removed]",
            "text/plain": [
              "<Figure size 720x432 with 1 Axes>"
            ]
          },
          "metadata": {
            "tags": []
          }
        }
      ]
    },
    {
      "cell_type": "markdown",
      "metadata": {
        "id": "ZaawSNFStF6R",
        "colab_type": "text"
      },
      "source": [
        "**Exercise:** Find the factor that describes happiness the best"
      ]
    }
  ]
}