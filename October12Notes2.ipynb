{
  "nbformat": 4,
  "nbformat_minor": 0,
  "metadata": {
    "colab": {
      "name": "Copy of 01_exploring_data_in_python.ipynb",
      "provenance": [],
      "include_colab_link": true
    },
    "kernelspec": {
      "display_name": "Python 3",
      "language": "python",
      "name": "python3"
    }
  },
  "cells": [
    {
      "cell_type": "markdown",
      "metadata": {
        "id": "view-in-github",
        "colab_type": "text"
      },
      "source": [
        "<a href=\"https://colab.research.google.com/github/kencbaron/BEAM-Data-Science-Fall-2019/blob/master/October12Notes2.ipynb\" target=\"_parent\"><img src=\"https://colab.research.google.com/assets/colab-badge.svg\" alt=\"Open In Colab\"/></a>"
      ]
    },
    {
      "cell_type": "markdown",
      "metadata": {
        "id": "lNI4wL3eAq1V",
        "colab_type": "text"
      },
      "source": [
        "# Today\n",
        "\n",
        "1. Welcome and Introductions\n",
        "2. What is Data Science?\n",
        "3. Introductory Data Statistics\n",
        "4. Tech Setup: Google colaboratory and Python\n",
        "5. Python and Introductory Statistics\n",
        "\n"
      ]
    },
    {
      "cell_type": "markdown",
      "metadata": {
        "id": "9p_rW3-PCp8Z",
        "colab_type": "text"
      },
      "source": [
        "# 1. Welcome and Introductions\n",
        "\n",
        "**BEAM Code of Conduct** \n",
        "\n",
        "    o\tBe excellent to one another; treat each other with respect\n",
        "    o\tBe here to grow\n",
        "    o\tListen to staff instructions\n",
        "    o\tDon’t do stupid stuff\n",
        "    o\tAttend class unless something urgent comes up\n",
        "\n",
        "**Attendance Policy and Attendance Sheet**\n",
        "\n",
        "**Ken and Ilan’s background**\n",
        "\n",
        "*Your background and a fun fact about you \n",
        "\n",
        "*Your experience with statistics and data science so far\n",
        "\n",
        "**Shout Outs to Colleagues**\n",
        "\n",
        "* Harold F and Peter T. And Aditi K, Greg S, Jinger Z, Steven K, and Xufei W\n",
        "\n",
        "**Books** \n",
        "\n",
        "* Stephen Klosterman, Data Science Projects with Python\n",
        "* Jake VanderPlas, Python Data Science Handbook\n",
        "* Wes McKinney, Python for Data Analysis\n",
        "* Thomas Haslwanter, An Introduction to Statistics with Python\n",
        "* Joel Grus, Data Science from Scratch\n",
        "* John Kelleher and Brendan Tierney, Data Science\n"
      ]
    },
    {
      "cell_type": "markdown",
      "metadata": {
        "id": "nWwHxvtjGbld",
        "colab_type": "text"
      },
      "source": [
        "# 2. What is Data Science?\n",
        "\n",
        "\n",
        "**Goal:** The goal of data science is to develop insights and improve decision-making through data analysis.\n",
        "\n",
        "**Tools for Data Analysis**\n",
        "\n",
        "* Statistics\n",
        "\n",
        "* Computer Science, such Python\n",
        "\n",
        "* Your brain \n",
        "\n",
        "**Who Uses Data Science?**\n",
        "\n",
        "* Lots of Companies\n",
        "    \n",
        "* Teachers and Schools\n",
        "\n",
        "* You! \n",
        "\n",
        "# 3. Introduction to Some Basic Summary Statistics\n",
        "\n",
        "Mean, Percentile, Median, Range, Standard Deviation, Histograms, Box and Whisker Plots\n",
        "\n",
        "# 4. Intro to Python and Google Colaboratory\n",
        "\n",
        "Why are we using Python for this class?\n",
        "* It is free\n",
        "* It is powerful. \n",
        "  * It is one of the most popular open source programming language in the world. So lots of people are constantly contributing modules and making it more powerful. \n",
        "\n",
        "You'll need a Google account\n",
        "\n",
        "Navigate to https://colab.research.google.com/github\n",
        "\n",
        "Go to colab.research.google.com\n",
        "\n",
        "Colaboratory is a free Jupyter notebook environment that requires no setup and runs entirely in the cloud.\n",
        "\n",
        "With Colaboratory you can write and execute code, save and share your analyses, and access powerful computing resources, all for free from your browser.\n",
        "\n",
        "File / new Python 3 notebook\n",
        "\n",
        "We will use this repo: https://github.com/kencbaron/BEAM-Data-Science-Fall-2019\n",
        "\n",
        "The key data scientist's tool is the jupyter notebook, a mix of code and text. From colaboratory, you can add code cells or text cells and reorder them\n",
        "\n"
      ]
    },
    {
      "cell_type": "code",
      "metadata": {
        "id": "701AIIAQBcW4",
        "colab_type": "code",
        "colab": {}
      },
      "source": [
        ""
      ],
      "execution_count": 0,
      "outputs": []
    },
    {
      "cell_type": "markdown",
      "metadata": {
        "id": "vM3-ERdFILNt",
        "colab_type": "text"
      },
      "source": [
        "\n",
        "Below is a code cell. Click in the cell to select it and execute the contents in the following ways:\n",
        "* Click the Play icon in the left gutter of the cell;\n",
        "* Type Cmd/Ctrl+Enter to run the cell in place;\n",
        "* Type Shift+Enter to run the cell and move focus to the next cell (adding one if none exists); or\n",
        "* Type Alt+Enter to run the cell and insert a new code cell immediately below it.\n",
        "\n",
        "There are additional options for running some or all cells in the Runtime menu.\n",
        "\n"
      ]
    },
    {
      "cell_type": "markdown",
      "metadata": {
        "id": "rfjfij_EIsAn",
        "colab_type": "text"
      },
      "source": [
        "# Intro to Python"
      ]
    },
    {
      "cell_type": "code",
      "metadata": {
        "id": "NIJ6jjGjgMOE",
        "colab_type": "code",
        "outputId": "6f68ad50-1416-4f6c-a2f5-28a0798e0d9e",
        "colab": {
          "base_uri": "https://localhost:8080/",
          "height": 34
        }
      },
      "source": [
        "print('hello world')"
      ],
      "execution_count": 0,
      "outputs": [
        {
          "output_type": "stream",
          "text": [
            "hello world\n"
          ],
          "name": "stdout"
        }
      ]
    },
    {
      "cell_type": "code",
      "metadata": {
        "id": "TTF7p3KChv3o",
        "colab_type": "code",
        "outputId": "76c52bf7-c8c1-401d-ba35-896f96cfdad1",
        "colab": {
          "base_uri": "https://localhost:8080/",
          "height": 34
        }
      },
      "source": [
        "1+1"
      ],
      "execution_count": 0,
      "outputs": [
        {
          "output_type": "execute_result",
          "data": {
            "text/plain": [
              "2"
            ]
          },
          "metadata": {
            "tags": []
          },
          "execution_count": 3
        }
      ]
    },
    {
      "cell_type": "code",
      "metadata": {
        "id": "HczJXIyh3UqT",
        "colab_type": "code",
        "colab": {}
      },
      "source": [
        "primes_list=(2,3, 5, 7, 11, 13, 17, 19, 23, 29, 31, 37, 41, 43, 47, 53, 59, 61, 67, 71, 73, 79, 83, 89, 97) # defines a variable primes_list"
      ],
      "execution_count": 0,
      "outputs": []
    },
    {
      "cell_type": "code",
      "metadata": {
        "id": "lqXv6BwU3tkM",
        "colab_type": "code",
        "outputId": "3af25adb-dfb0-424c-9ecc-14811c0b25b3",
        "colab": {
          "base_uri": "https://localhost:8080/",
          "height": 34
        }
      },
      "source": [
        "print(primes_list) # can use the print command to check what is in a variable"
      ],
      "execution_count": 0,
      "outputs": [
        {
          "output_type": "stream",
          "text": [
            "(2, 3, 5, 7, 11, 13, 17, 19, 23, 29, 31, 37, 41, 43, 47, 53, 59, 61, 67, 71, 73, 79, 83, 89, 97)\n"
          ],
          "name": "stdout"
        }
      ]
    },
    {
      "cell_type": "code",
      "metadata": {
        "id": "gKddWBOn4CDU",
        "colab_type": "code",
        "outputId": "decb20f5-e8c2-4e9c-fef0-a172d25552bb",
        "colab": {
          "base_uri": "https://localhost:8080/",
          "height": 442
        }
      },
      "source": [
        "primes_list # short hand to print out our variable primes_list"
      ],
      "execution_count": 0,
      "outputs": [
        {
          "output_type": "execute_result",
          "data": {
            "text/plain": [
              "(2,\n",
              " 3,\n",
              " 5,\n",
              " 7,\n",
              " 11,\n",
              " 13,\n",
              " 17,\n",
              " 19,\n",
              " 23,\n",
              " 29,\n",
              " 31,\n",
              " 37,\n",
              " 41,\n",
              " 43,\n",
              " 47,\n",
              " 53,\n",
              " 59,\n",
              " 61,\n",
              " 67,\n",
              " 71,\n",
              " 73,\n",
              " 79,\n",
              " 83,\n",
              " 89,\n",
              " 97)"
            ]
          },
          "metadata": {
            "tags": []
          },
          "execution_count": 6
        }
      ]
    },
    {
      "cell_type": "code",
      "metadata": {
        "id": "gGmBFl_P4oOE",
        "colab_type": "code",
        "outputId": "e4244f9c-6af5-4b12-b851-86f25e8d012d",
        "colab": {
          "base_uri": "https://localhost:8080/",
          "height": 34
        }
      },
      "source": [
        "primes_list[0] # indexing starts at zero in Python"
      ],
      "execution_count": 0,
      "outputs": [
        {
          "output_type": "execute_result",
          "data": {
            "text/plain": [
              "2"
            ]
          },
          "metadata": {
            "tags": []
          },
          "execution_count": 7
        }
      ]
    },
    {
      "cell_type": "code",
      "metadata": {
        "id": "Z4e3cZUU4m-z",
        "colab_type": "code",
        "outputId": "8071b5f8-a5bc-4147-8bc5-ddf87044e47b",
        "colab": {
          "base_uri": "https://localhost:8080/",
          "height": 34
        }
      },
      "source": [
        "primes_list[2]"
      ],
      "execution_count": 0,
      "outputs": [
        {
          "output_type": "execute_result",
          "data": {
            "text/plain": [
              "5"
            ]
          },
          "metadata": {
            "tags": []
          },
          "execution_count": 8
        }
      ]
    },
    {
      "cell_type": "code",
      "metadata": {
        "id": "CT9_EAWF4kY7",
        "colab_type": "code",
        "colab": {}
      },
      "source": [
        "import numpy as np # importing numpy, a module that we will use for math and linear algebra\n"
      ],
      "execution_count": 0,
      "outputs": []
    },
    {
      "cell_type": "code",
      "metadata": {
        "id": "yDzJYQSZ5hBk",
        "colab_type": "code",
        "colab": {}
      },
      "source": [
        "primes_array=np.array(primes_list) # create an array called primes_array from primes_list"
      ],
      "execution_count": 0,
      "outputs": []
    },
    {
      "cell_type": "code",
      "metadata": {
        "id": "Z0Xr8LZl5FAc",
        "colab_type": "code",
        "outputId": "4a9edb67-8745-4814-bb20-d732c20056a1",
        "colab": {
          "base_uri": "https://localhost:8080/",
          "height": 51
        }
      },
      "source": [
        "primes_array"
      ],
      "execution_count": 0,
      "outputs": [
        {
          "output_type": "execute_result",
          "data": {
            "text/plain": [
              "array([ 2,  3,  5,  7, 11, 13, 17, 19, 23, 29, 31, 37, 41, 43, 47, 53, 59,\n",
              "       61, 67, 71, 73, 79, 83, 89, 97])"
            ]
          },
          "metadata": {
            "tags": []
          },
          "execution_count": 11
        }
      ]
    },
    {
      "cell_type": "code",
      "metadata": {
        "id": "JOgVvDdv5jfY",
        "colab_type": "code",
        "outputId": "3f77fbf7-49f6-40ee-f2e2-fbf91cd440e6",
        "colab": {
          "base_uri": "https://localhost:8080/",
          "height": 34
        }
      },
      "source": [
        "primes_array[0] # arrays start with 0th element"
      ],
      "execution_count": 0,
      "outputs": [
        {
          "output_type": "execute_result",
          "data": {
            "text/plain": [
              "2"
            ]
          },
          "metadata": {
            "tags": []
          },
          "execution_count": 12
        }
      ]
    },
    {
      "cell_type": "code",
      "metadata": {
        "id": "VI22ZrWN5x1L",
        "colab_type": "code",
        "outputId": "116fbed7-268f-4aec-924c-e93e77f0ff9a",
        "colab": {
          "base_uri": "https://localhost:8080/",
          "height": 34
        }
      },
      "source": [
        "primes_array[3] # 4th element of the array"
      ],
      "execution_count": 0,
      "outputs": [
        {
          "output_type": "execute_result",
          "data": {
            "text/plain": [
              "7"
            ]
          },
          "metadata": {
            "tags": []
          },
          "execution_count": 13
        }
      ]
    },
    {
      "cell_type": "code",
      "metadata": {
        "id": "1BVtn7dcvrlT",
        "colab_type": "code",
        "outputId": "806c1f83-5fca-4bcd-a6f8-46b8145d3dd8",
        "colab": {
          "base_uri": "https://localhost:8080/",
          "height": 34
        }
      },
      "source": [
        "len(primes_array)"
      ],
      "execution_count": 0,
      "outputs": [
        {
          "output_type": "execute_result",
          "data": {
            "text/plain": [
              "25"
            ]
          },
          "metadata": {
            "tags": []
          },
          "execution_count": 14
        }
      ]
    },
    {
      "cell_type": "code",
      "metadata": {
        "id": "SKLw2lA-v9go",
        "colab_type": "code",
        "outputId": "f414ac4c-27aa-4d7c-b555-d254ff5cfcc0",
        "colab": {
          "base_uri": "https://localhost:8080/",
          "height": 34
        }
      },
      "source": [
        "primes_array[len(primes_array)-1]"
      ],
      "execution_count": 0,
      "outputs": [
        {
          "output_type": "execute_result",
          "data": {
            "text/plain": [
              "97"
            ]
          },
          "metadata": {
            "tags": []
          },
          "execution_count": 15
        }
      ]
    },
    {
      "cell_type": "code",
      "metadata": {
        "id": "8srKAHGB54jg",
        "colab_type": "code",
        "outputId": "22ebcc84-0042-4425-de1f-03c9a69ce6e7",
        "colab": {
          "base_uri": "https://localhost:8080/",
          "height": 34
        }
      },
      "source": [
        "np.mean(primes_array) # mean or average value"
      ],
      "execution_count": 0,
      "outputs": [
        {
          "output_type": "execute_result",
          "data": {
            "text/plain": [
              "42.4"
            ]
          },
          "metadata": {
            "tags": []
          },
          "execution_count": 16
        }
      ]
    },
    {
      "cell_type": "code",
      "metadata": {
        "id": "f-7R7A0H5-g3",
        "colab_type": "code",
        "outputId": "e162ce6a-365e-4d5c-cdec-3c341c4eb26f",
        "colab": {
          "base_uri": "https://localhost:8080/",
          "height": 34
        }
      },
      "source": [
        "np.median(primes_array) # median value"
      ],
      "execution_count": 0,
      "outputs": [
        {
          "output_type": "execute_result",
          "data": {
            "text/plain": [
              "41.0"
            ]
          },
          "metadata": {
            "tags": []
          },
          "execution_count": 17
        }
      ]
    },
    {
      "cell_type": "code",
      "metadata": {
        "id": "JuCyNc3u6F6l",
        "colab_type": "code",
        "outputId": "cd7b7251-52cf-48de-d0c3-e8d41e02998b",
        "colab": {
          "base_uri": "https://localhost:8080/",
          "height": 34
        }
      },
      "source": [
        "np.min(primes_array) # maximum value"
      ],
      "execution_count": 0,
      "outputs": [
        {
          "output_type": "execute_result",
          "data": {
            "text/plain": [
              "2"
            ]
          },
          "metadata": {
            "tags": []
          },
          "execution_count": 18
        }
      ]
    },
    {
      "cell_type": "code",
      "metadata": {
        "id": "l0-ieYIy6xj4",
        "colab_type": "code",
        "outputId": "ad4cc2d2-00f1-4a0d-d9a5-0b7dd7f99f5b",
        "colab": {
          "base_uri": "https://localhost:8080/",
          "height": 34
        }
      },
      "source": [
        "np.max(primes_array) # maximum value"
      ],
      "execution_count": 0,
      "outputs": [
        {
          "output_type": "execute_result",
          "data": {
            "text/plain": [
              "97"
            ]
          },
          "metadata": {
            "tags": []
          },
          "execution_count": 19
        }
      ]
    },
    {
      "cell_type": "code",
      "metadata": {
        "id": "UWqMP9YZ61Kl",
        "colab_type": "code",
        "colab": {}
      },
      "source": [
        "primes_range=np.max(primes_array)-np.min(primes_array) # max minus min"
      ],
      "execution_count": 0,
      "outputs": []
    },
    {
      "cell_type": "code",
      "metadata": {
        "id": "LChJBl1j7ioH",
        "colab_type": "code",
        "outputId": "c05c2f44-3557-4950-f115-b282563b3d94",
        "colab": {
          "base_uri": "https://localhost:8080/",
          "height": 34
        }
      },
      "source": [
        "primes_range"
      ],
      "execution_count": 0,
      "outputs": [
        {
          "output_type": "execute_result",
          "data": {
            "text/plain": [
              "95"
            ]
          },
          "metadata": {
            "tags": []
          },
          "execution_count": 21
        }
      ]
    },
    {
      "cell_type": "code",
      "metadata": {
        "id": "VZRVIc_E7nXq",
        "colab_type": "code",
        "colab": {}
      },
      "source": [
        "primes_SD=np.std(primes_array)"
      ],
      "execution_count": 0,
      "outputs": []
    },
    {
      "cell_type": "code",
      "metadata": {
        "id": "xyBb6NVv72Cs",
        "colab_type": "code",
        "outputId": "09af1e8d-9cb6-4456-b7b2-815482bd186d",
        "colab": {
          "base_uri": "https://localhost:8080/",
          "height": 34
        }
      },
      "source": [
        "print(primes_SD)"
      ],
      "execution_count": 0,
      "outputs": [
        {
          "output_type": "stream",
          "text": [
            "28.880443209895517\n"
          ],
          "name": "stdout"
        }
      ]
    },
    {
      "cell_type": "markdown",
      "metadata": {
        "id": "ECMF0hhc--q2",
        "colab_type": "text"
      },
      "source": [
        "### Import Python libraries for Visualizations and Histograms\n",
        "\n",
        "Earlier, we imported a numpy, a linear algebra module. Let's import a couple more modules that will help us with plotting \n",
        "\n",
        "- matplotlib: plotting and data visualization tools\n",
        "- seaborn: interface to matplotlib for easier (and prettier) plotting"
      ]
    },
    {
      "cell_type": "code",
      "metadata": {
        "id": "GRma8nos--q3",
        "colab_type": "code",
        "colab": {}
      },
      "source": [
        "import matplotlib.pyplot as plt\n",
        "import seaborn as sns\n",
        "%matplotlib inline  \n",
        "# This allows us to display plots right within our Jupyter notebook"
      ],
      "execution_count": 0,
      "outputs": []
    },
    {
      "cell_type": "code",
      "metadata": {
        "id": "tBXW1iWAvbJ1",
        "colab_type": "code",
        "outputId": "314dc58d-e8f4-48c3-9aba-eba37ad8163f",
        "colab": {
          "base_uri": "https://localhost:8080/",
          "height": 312
        }
      },
      "source": [
        "plt.hist(primes_array, bins=10, range=(0,100))\n",
        "plt.xlabel('Primes')\n",
        "plt.ylabel('Frequency')\n",
        "plt.title('Primes less than 100')"
      ],
      "execution_count": 0,
      "outputs": [
        {
          "output_type": "execute_result",
          "data": {
            "text/plain": [
              "Text(0.5, 1.0, 'Primes less than 100')"
            ]
          },
          "metadata": {
            "tags": []
          },
          "execution_count": 37
        },
        {
          "output_type": "display_data",
          "data": {
            "image/png": "[encoded data removed]",
            "text/plain": [
              "<Figure size 432x288 with 1 Axes>"
            ]
          },
          "metadata": {
            "tags": []
          }
        }
      ]
    },
    {
      "cell_type": "code",
      "metadata": {
        "id": "SqSrhzv8xRoj",
        "colab_type": "code",
        "outputId": "edee8a59-3a3e-4667-e2c7-d0152a06c679",
        "colab": {
          "base_uri": "https://localhost:8080/",
          "height": 286
        }
      },
      "source": [
        "sns.boxplot(primes_array)\n"
      ],
      "execution_count": 0,
      "outputs": [
        {
          "output_type": "execute_result",
          "data": {
            "text/plain": [
              "<matplotlib.axes._subplots.AxesSubplot at 0x7f34cddc0470>"
            ]
          },
          "metadata": {
            "tags": []
          },
          "execution_count": 50
        },
        {
          "output_type": "display_data",
          "data": {
            "image/png": "[encoded data removed]",
            "text/plain": [
              "<Figure size 432x288 with 1 Axes>"
            ]
          },
          "metadata": {
            "tags": []
          }
        }
      ]
    },
    {
      "cell_type": "code",
      "metadata": {
        "id": "3n7dgPpgzkQ8",
        "colab_type": "code",
        "colab": {}
      },
      "source": [
        ""
      ],
      "execution_count": 0,
      "outputs": []
    }
  ]
}