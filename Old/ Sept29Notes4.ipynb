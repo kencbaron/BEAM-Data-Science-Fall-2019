{
  "nbformat": 4,
  "nbformat_minor": 0,
  "metadata": {
    "colab": {
      "name": "Copy of 01_exploring_data_in_python.ipynb",
      "provenance": [],
      "include_colab_link": true
    },
    "kernelspec": {
      "display_name": "Python 3",
      "language": "python",
      "name": "python3"
    }
  },
  "cells": [
    {
      "cell_type": "markdown",
      "metadata": {
        "id": "view-in-github",
        "colab_type": "text"
      },
      "source": [
        "<a href=\"https://colab.research.google.com/github/kencbaron/BEAM-Data-Science-Fall-2019/blob/master/Sept29Notes4.ipynb\" target=\"_parent\"><img src=\"https://colab.research.google.com/assets/colab-badge.svg\" alt=\"Open In Colab\"/></a>"
      ]
    },
    {
      "cell_type": "markdown",
      "metadata": {
        "id": "lNI4wL3eAq1V",
        "colab_type": "text"
      },
      "source": [
        "# Today\n",
        "\n",
        "1. Welcome and Introductions\n",
        "2. What is Data Science?\n",
        "3. Introductory Data Statistics\n",
        "4. Tech Setup: Google colaboratory and Python\n",
        "5. Python and Introductory Statistics\n",
        "\n"
      ]
    },
    {
      "cell_type": "markdown",
      "metadata": {
        "id": "9p_rW3-PCp8Z",
        "colab_type": "text"
      },
      "source": [
        "# 1. Welcome and Introductions\n",
        "\n",
        "**BEAM Code of Conduct** \n",
        "\n",
        "    o\tBe excellent to one another\n",
        "    o\tBe here to grow\n",
        "    o\tListen to staff instructions\n",
        "    o\tDon’t do stupid stuff\n",
        "\n",
        "**Attendance Policy and Attendance Sheet**\n",
        "\n",
        "**Ken and Ilan’s background**\n",
        "\n",
        "**Your background and a fun fact**\n",
        "\n",
        "**Shout Outs to Colleagues**\n",
        "\n",
        "* Harold F and Peter T. And Aditi K, Greg S, Jinger Z, Steven K, and Xufei W\n",
        "\n",
        "**Books** \n",
        "\n",
        "* Stephen Klosterman, Data Science Projects with Python\n",
        "* Jake VanderPlas, Python Data Science Handbook\n",
        "* Wes McKinney, Python for Data Analysis\n",
        "* Thomas Haslwanter, An Introduction to Statistics with Python\n",
        "* Joel Grus, Data Science from Scratch\n",
        "* John Kelleher and Brendan Tierney, Data Science\n"
      ]
    },
    {
      "cell_type": "markdown",
      "metadata": {
        "id": "nWwHxvtjGbld",
        "colab_type": "text"
      },
      "source": [
        "# 2. What is Data Science?\n",
        "\n",
        "\n",
        "**Goal:** The goal of data science is to develop insights and improve decision-making through data analysis.\n",
        "\n",
        "**Tools for Data Analysis**\n",
        "\n",
        "* Statistics\n",
        "\n",
        "* Computer Science, aka Python\n",
        "\n",
        "* Your brain \n",
        "\n",
        "\n",
        "**Some Quotes**\n",
        "\n",
        "“In God we trust. All others must bring data.” – W. Edwards Deming, statistician, professor, author, lecturer, and consultant.\n",
        "\n",
        "“If we have data, let’s look at data. If all we have are opinions, let’s go with mine.” – Jim Barksdale, former Netscape CEO\n",
        "\n",
        "**Who Uses Data Science?**\n",
        "\n",
        "* Teachers and Schools\n",
        "* Companies\n",
        "    \n",
        "      Google \n",
        "    \n",
        "      Facebook\n",
        "    \n",
        "      Apple and Siri\n",
        "    \n",
        "      Investment Companies\n",
        "    \n",
        "# 3. Introduction to Data Statistics\n",
        "\n",
        "Mean, Median, Range, Standard Deviation, Mean Absolute Deviation, Histogram\n",
        "\n",
        "# 4. Intro to Python and Google Colaboratory\n",
        "\n",
        "\n",
        "Why are we using Python for this class?\n",
        "•\tIt is powerful \n",
        "•\tIt is free\n",
        "•\tIt is one of the most popular open source programming language in the world. So lots of people are constantly contributing modules and making more powerful. \n",
        "\n",
        "You'll need a Google account\n",
        "\n",
        "Navigate to https://colab.research.google.com/github\n",
        "\n",
        "Go to colab.research.google.com\n",
        "\n",
        "Colaboratory is a free Jupyter notebook environment that requires no setup and runs entirely in the cloud.\n",
        "\n",
        "With Colaboratory you can write and execute code, save and share your analyses, and access powerful computing resources, all for free from your browser.\n",
        "\n",
        "File / new Python 3 notebook\n",
        "\n",
        "We will use this repo: https://github.com/kencbaron/BEAM-Data-Science-Fall-2019\n",
        "\n",
        "The key data scientist's tool is the jupyter notebook, a mix of code and text. From colaboratory, you can add code cells or text cells and reorder them\n",
        "\n"
      ]
    },
    {
      "cell_type": "markdown",
      "metadata": {
        "id": "vM3-ERdFILNt",
        "colab_type": "text"
      },
      "source": [
        "The key data scientist's tool is the jupyter notebook, a mix of code and text. From colaboratory, you can add code cells or text cells and reorder them"
      ]
    },
    {
      "cell_type": "markdown",
      "metadata": {
        "id": "rfjfij_EIsAn",
        "colab_type": "text"
      },
      "source": [
        "# Intro to Python"
      ]
    },
    {
      "cell_type": "code",
      "metadata": {
        "id": "NIJ6jjGjgMOE",
        "colab_type": "code",
        "outputId": "d6cbcf49-f6af-4750-ad4a-51152f5edd4a",
        "colab": {
          "base_uri": "https://localhost:8080/",
          "height": 34
        }
      },
      "source": [
        "print('hello world')"
      ],
      "execution_count": 2,
      "outputs": [
        {
          "output_type": "stream",
          "text": [
            "hello world\n"
          ],
          "name": "stdout"
        }
      ]
    },
    {
      "cell_type": "code",
      "metadata": {
        "id": "TTF7p3KChv3o",
        "colab_type": "code",
        "outputId": "1498f8c8-6ab2-4c53-8bc8-22c19cdeb54a",
        "colab": {
          "base_uri": "https://localhost:8080/",
          "height": 34
        }
      },
      "source": [
        "1+1"
      ],
      "execution_count": 0,
      "outputs": [
        {
          "output_type": "execute_result",
          "data": {
            "text/plain": [
              "2"
            ]
          },
          "metadata": {
            "tags": []
          },
          "execution_count": 2
        }
      ]
    },
    {
      "cell_type": "code",
      "metadata": {
        "id": "NUFwqOFyh18-",
        "colab_type": "code",
        "outputId": "2802b14b-620f-4205-ddcc-b6831d22db5a",
        "colab": {
          "base_uri": "https://localhost:8080/",
          "height": 34
        }
      },
      "source": [
        "['Lists', 'contain', 'multiple', 'items']"
      ],
      "execution_count": 0,
      "outputs": [
        {
          "output_type": "execute_result",
          "data": {
            "text/plain": [
              "['Lists', 'contain', 'multiple', 'items']"
            ]
          },
          "metadata": {
            "tags": []
          },
          "execution_count": 3
        }
      ]
    },
    {
      "cell_type": "markdown",
      "metadata": {
        "id": "Jqt-OXA-iYi1",
        "colab_type": "text"
      },
      "source": [
        "Dictionaries map keys to data"
      ]
    },
    {
      "cell_type": "code",
      "metadata": {
        "id": "t5KzLxUtiASt",
        "colab_type": "code",
        "outputId": "10568c77-2c0d-4054-fb36-92b4498fe294",
        "colab": {
          "base_uri": "https://localhost:8080/",
          "height": 85
        }
      },
      "source": [
        "{'Yankees': 'New York', 'Red Sox': 'Boston', 'Blue Jays': 'Toronto', 'Dodgers': 'Los Angeles'}"
      ],
      "execution_count": 0,
      "outputs": [
        {
          "output_type": "execute_result",
          "data": {
            "text/plain": [
              "{'Blue Jays': 'Toronto',\n",
              " 'Dodgers': 'Los Angeles',\n",
              " 'Red Sox': 'Boston',\n",
              " 'Yankees': 'New York'}"
            ]
          },
          "metadata": {
            "tags": []
          },
          "execution_count": 4
        }
      ]
    },
    {
      "cell_type": "code",
      "metadata": {
        "id": "QnjXlx0bikIe",
        "colab_type": "code",
        "colab": {}
      },
      "source": [
        "def capitalize(s):\n",
        "  return ' '.join([w[0].upper() + w[1:].lower() for w in s.split(' ')])"
      ],
      "execution_count": 0,
      "outputs": []
    },
    {
      "cell_type": "code",
      "metadata": {
        "id": "F2w8c6dDjO86",
        "colab_type": "code",
        "outputId": "9a87c7ff-0ee9-43d3-f616-5ddc2454901b",
        "colab": {
          "base_uri": "https://localhost:8080/",
          "height": 34
        }
      },
      "source": [
        "capitalize('a lower case sentence')"
      ],
      "execution_count": 0,
      "outputs": [
        {
          "output_type": "execute_result",
          "data": {
            "text/plain": [
              "'A Lower Case Sentence'"
            ]
          },
          "metadata": {
            "tags": []
          },
          "execution_count": 6
        }
      ]
    },
    {
      "cell_type": "markdown",
      "metadata": {
        "id": "4hhsFrRU--q0",
        "colab_type": "text"
      },
      "source": [
        "## 1. Getting Started "
      ]
    },
    {
      "cell_type": "markdown",
      "metadata": {
        "id": "WGCGcBK3--q1",
        "colab_type": "text"
      },
      "source": [
        "### Welcome\n",
        "\n",
        "Welcome to Jupyter, a notebook environment for python. We will use Jupyter notebooks throughout this course to explore, visualize, and analyze data. You can learn more about Jupyter here: http://jupyter.readthedocs.io/en/latest/index.html"
      ]
    },
    {
      "cell_type": "markdown",
      "metadata": {
        "id": "ECMF0hhc--q2",
        "colab_type": "text"
      },
      "source": [
        "### Import required python libraries\n",
        "\n",
        "We begin by importing a few basic python libraries for data analysis and visualization. We will start with the following:\n",
        "\n",
        "- pandas: data analysis\n",
        "- numpy: numerical computing and linear algebra in python\n",
        "- datetime: date and time functionality\n",
        "- matplotlib: plotting and data visualization tools\n",
        "- seaborn: interface to matplotlib for easier (and prettier) plotting"
      ]
    },
    {
      "cell_type": "code",
      "metadata": {
        "id": "GRma8nos--q3",
        "colab_type": "code",
        "colab": {}
      },
      "source": [
        "import pandas as pd   # We give the libraries short names for easier referencing\n",
        "import numpy as np\n",
        "import datetime\n",
        "import matplotlib.pyplot as plt\n",
        "import seaborn as sns\n",
        "%matplotlib inline  \n",
        "# This allows us to display plots right within our Jupyter notebook"
      ],
      "execution_count": 0,
      "outputs": []
    },
    {
      "cell_type": "markdown",
      "metadata": {
        "id": "tTOJ6jin--q6",
        "colab_type": "text"
      },
      "source": [
        "### Set notebook display options\n",
        "\n",
        "Pandas is a python library for data analysis. We will begin by using it here to set display options so that we can see a larger number of rows and columns than the default. You can read more about setting options here: https://pandas.pydata.org/pandas-docs/stable/options.html\n",
        "\n"
      ]
    },
    {
      "cell_type": "code",
      "metadata": {
        "id": "rhDj0HpN--q6",
        "colab_type": "code",
        "outputId": "97bfa6e6-3f9f-4bb6-dfad-75e1ea1ed1b0",
        "colab": {
          "base_uri": "https://localhost:8080/",
          "height": 34
        }
      },
      "source": [
        "# -- What is the default maximum number of columns displayed?\n",
        "pd.options.display.max_columns"
      ],
      "execution_count": 0,
      "outputs": [
        {
          "output_type": "execute_result",
          "data": {
            "text/plain": [
              "20"
            ]
          },
          "metadata": {
            "tags": []
          },
          "execution_count": 8
        }
      ]
    },
    {
      "cell_type": "code",
      "metadata": {
        "id": "fD0DOpx6--q8",
        "colab_type": "code",
        "outputId": "4ff163a4-587e-4529-ecfb-d99f66abcda0",
        "colab": {
          "base_uri": "https://localhost:8080/",
          "height": 34
        }
      },
      "source": [
        "# -- What is the default maximum number of rows displayed?\n",
        "pd.options.display.max_rows"
      ],
      "execution_count": 0,
      "outputs": [
        {
          "output_type": "execute_result",
          "data": {
            "text/plain": [
              "60"
            ]
          },
          "metadata": {
            "tags": []
          },
          "execution_count": 9
        }
      ]
    },
    {
      "cell_type": "code",
      "metadata": {
        "id": "20-ToxTm--q_",
        "colab_type": "code",
        "colab": {}
      },
      "source": [
        "# -- We can change the default number of rows and columns\n",
        "pd.options.display.max_columns = 50\n",
        "pd.options.display.max_rows = 500"
      ],
      "execution_count": 0,
      "outputs": []
    },
    {
      "cell_type": "code",
      "metadata": {
        "id": "XC7uSUQG--rB",
        "colab_type": "code",
        "outputId": "c777eaa7-dcd9-4727-b2e9-ce71e7daeb0e",
        "colab": {
          "base_uri": "https://localhost:8080/",
          "height": 34
        }
      },
      "source": [
        "# -- Which other kinds of options are available?\n",
        "dir(pd.options)"
      ],
      "execution_count": 0,
      "outputs": [
        {
          "output_type": "execute_result",
          "data": {
            "text/plain": [
              "['compute', 'display', 'html', 'io', 'mode', 'plotting']"
            ]
          },
          "metadata": {
            "tags": []
          },
          "execution_count": 11
        }
      ]
    },
    {
      "cell_type": "markdown",
      "metadata": {
        "id": "Ex1kZJek--rD",
        "colab_type": "text"
      },
      "source": [
        "### Read documentation in your Jupyter notebook\n",
        "Jupyter conveniently allows us to read documentation on python functions and other objects within our notebook. This can be done by either preceding or following the name of the object with a '?' (question mark). We illustrate this here with the 'set_option' function provided by pandas."
      ]
    },
    {
      "cell_type": "code",
      "metadata": {
        "id": "yXKfD7Lo--rE",
        "colab_type": "code",
        "colab": {}
      },
      "source": [
        "pd.set_option?"
      ],
      "execution_count": 0,
      "outputs": []
    },
    {
      "cell_type": "code",
      "metadata": {
        "id": "xmc2_D-C--rG",
        "colab_type": "code",
        "outputId": "7bb80b2f-50e5-4641-b360-2401cfefb3da",
        "colab": {
          "base_uri": "https://localhost:8080/",
          "height": 54
        }
      },
      "source": [
        "# -- \n",
        "'''\n",
        "Getting Familiar with the ipython notebook environment\n",
        "'''\n",
        "\n",
        "\"\"\"\n",
        "Session 1: Exploring Data in Python\n",
        "\n",
        "1.\tGetting Started\n",
        "    - working in jupyter\n",
        "    - display options\n",
        "    - importing libraries (and what these libraries contain)\n",
        "2.\tIntroduction to pandas\n",
        "    - python brief review (control structures, data structures, functions, lambda)\n",
        "    - pandas \n",
        "        - \n",
        "3.\tLoading and Summarizing Data\n",
        "4.\tVisualizing Data in pandas\n",
        "    - \n",
        "\n",
        "5.\tCleaning and Tidying Data\n",
        "\n",
        "Session 2: Visualizing and Simulating Data\n",
        "\n",
        "1.\tBrief Recap of Last Session\n",
        "    - What did we learn last time?\n",
        "    - Review \n",
        "2.\tData Visualization\n",
        "- \n",
        "3.\tHandling Missing Data\n",
        "4.\tRandom Numbers and Sampling\n",
        "5.\tSimulation for Data Analysis\n",
        "\n",
        "\"\"\""
      ],
      "execution_count": 0,
      "outputs": [
        {
          "output_type": "execute_result",
          "data": {
            "text/plain": [
              "'\\nSession 1: Exploring Data in Python\\n\\n1.\\tGetting Started\\n    - working in jupyter\\n    - display options\\n    - importing libraries (and what these libraries contain)\\n2.\\tIntroduction to pandas\\n    - python brief review (control structures, data structures, functions, lambda)\\n    - pandas \\n        - \\n3.\\tLoading and Summarizing Data\\n4.\\tVisualizing Data in pandas\\n    - \\n\\n5.\\tCleaning and Tidying Data\\n\\nSession 2: Visualizing and Simulating Data\\n\\n1.\\tBrief Recap of Last Session\\n    - What did we learn last time?\\n    - Review \\n2.\\tData Visualization\\n- \\n3.\\tHandling Missing Data\\n4.\\tRandom Numbers and Sampling\\n5.\\tSimulation for Data Analysis\\n\\n'"
            ]
          },
          "metadata": {
            "tags": []
          },
          "execution_count": 13
        }
      ]
    },
    {
      "cell_type": "markdown",
      "metadata": {
        "id": "WN5ztI1d--rJ",
        "colab_type": "text"
      },
      "source": [
        "For all this information and more, see https://pandas.pydata.org/pandas-docs/stable/10min.html"
      ]
    }
  ]
}
