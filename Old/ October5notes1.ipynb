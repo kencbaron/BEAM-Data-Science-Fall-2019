{
  "nbformat": 4,
  "nbformat_minor": 0,
  "metadata": {
    "colab": {
      "name": "Copy of 01_exploring_data_in_python.ipynb",
      "provenance": [],
      "include_colab_link": true
    },
    "kernelspec": {
      "display_name": "Python 3",
      "language": "python",
      "name": "python3"
    }
  },
  "cells": [
    {
      "cell_type": "markdown",
      "metadata": {
        "id": "view-in-github",
        "colab_type": "text"
      },
      "source": [
        "<a href=\"https://colab.research.google.com/github/kencbaron/BEAM-Data-Science-Fall-2019/blob/master/October5notes1.ipynb\" target=\"_parent\"><img src=\"https://colab.research.google.com/assets/colab-badge.svg\" alt=\"Open In Colab\"/></a>"
      ]
    },
    {
      "cell_type": "markdown",
      "metadata": {
        "id": "lNI4wL3eAq1V",
        "colab_type": "text"
      },
      "source": [
        "# Today\n",
        "\n",
        "1. Welcome and Introductions\n",
        "2. What is Data Science?\n",
        "3. Introductory Data Statistics\n",
        "4. Tech Setup: Google colaboratory and Python\n",
        "5. Python and Introductory Statistics\n",
        "\n"
      ]
    },
    {
      "cell_type": "markdown",
      "metadata": {
        "id": "9p_rW3-PCp8Z",
        "colab_type": "text"
      },
      "source": [
        "# 1. Welcome and Introductions\n",
        "\n",
        "**BEAM Code of Conduct** \n",
        "\n",
        "    o\tBe excellent to one another; treat each other with respect\n",
        "    o\tBe here to grow\n",
        "    o\tListen to staff instructions\n",
        "    o\tDon’t do stupid stuff\n",
        "    o\tAttend class unless something urgent comes up\n",
        "    o\tOther items?\n",
        "\n",
        "**Attendance Policy and Attendance Sheet**\n",
        "\n",
        "**Ken and Ilan’s background**\n",
        "\n",
        "**Your background and a fun fact about you **\n",
        "\n",
        "**Your experience with statistics and data science so far\n",
        "\n",
        "**Shout Outs to Colleagues**\n",
        "\n",
        "* Harold F and Peter T. And Aditi K, Greg S, Jinger Z, Steven K, and Xufei W\n",
        "\n",
        "**Books** \n",
        "\n",
        "* Stephen Klosterman, Data Science Projects with Python\n",
        "* Jake VanderPlas, Python Data Science Handbook\n",
        "* Wes McKinney, Python for Data Analysis\n",
        "* Thomas Haslwanter, An Introduction to Statistics with Python\n",
        "* Joel Grus, Data Science from Scratch\n",
        "* John Kelleher and Brendan Tierney, Data Science\n"
      ]
    },
    {
      "cell_type": "markdown",
      "metadata": {
        "id": "nWwHxvtjGbld",
        "colab_type": "text"
      },
      "source": [
        "# 2. What is Data Science?\n",
        "\n",
        "\n",
        "**Goal:** The goal of data science is to develop insights and improve decision-making through data analysis.\n",
        "\n",
        "**Tools for Data Analysis**\n",
        "\n",
        "* Statistics\n",
        "\n",
        "* Computer Science, such Python\n",
        "\n",
        "* Your brain \n",
        "\n",
        "**Who Uses Data Science?**\n",
        "\n",
        "* Lots of Companies\n",
        "    \n",
        "* Teachers and Schools\n",
        "\n",
        "# 3. Introduction to Data Statistics\n",
        "\n",
        "Mean, Median, Range, Standard Deviation, Skewness, Histograms\n",
        "\n",
        "# 4. Intro to Python and Google Colaboratory\n",
        "\n",
        "Why are we using Python for this class?\n",
        "* It is free\n",
        "* It is powerful. \n",
        "  * It is one of the most popular open source programming language in the world. So lots of people are constantly contributing modules and making it more powerful. \n",
        "\n",
        "You'll need a Google account\n",
        "\n",
        "Navigate to https://colab.research.google.com/github\n",
        "\n",
        "Go to colab.research.google.com\n",
        "\n",
        "Colaboratory is a free Jupyter notebook environment that requires no setup and runs entirely in the cloud.\n",
        "\n",
        "With Colaboratory you can write and execute code, save and share your analyses, and access powerful computing resources, all for free from your browser.\n",
        "\n",
        "File / new Python 3 notebook\n",
        "\n",
        "We will use this repo: https://github.com/kencbaron/BEAM-Data-Science-Fall-2019\n",
        "\n",
        "The key data scientist's tool is the jupyter notebook, a mix of code and text. From colaboratory, you can add code cells or text cells and reorder them\n",
        "\n"
      ]
    },
    {
      "cell_type": "markdown",
      "metadata": {
        "id": "vM3-ERdFILNt",
        "colab_type": "text"
      },
      "source": [
        "\n",
        "Below is a code cell. Click in the cell to select it and execute the contents in the following ways:\n",
        "* Click the Play icon in the left gutter of the cell;\n",
        "* Type Cmd/Ctrl+Enter to run the cell in place;\n",
        "* Type Shift+Enter to run the cell and move focus to the next cell (adding one if none exists); or\n",
        "* Type Alt+Enter to run the cell and insert a new code cell immediately below it.\n",
        "\n",
        "There are additional options for running some or all cells in the Runtime menu.\n",
        "\n"
      ]
    },
    {
      "cell_type": "markdown",
      "metadata": {
        "id": "rfjfij_EIsAn",
        "colab_type": "text"
      },
      "source": [
        "# Intro to Python"
      ]
    },
    {
      "cell_type": "code",
      "metadata": {
        "id": "NIJ6jjGjgMOE",
        "colab_type": "code",
        "outputId": "d82b7032-d647-46d3-848f-6a09d6e09ece",
        "colab": {
          "base_uri": "https://localhost:8080/",
          "height": 34
        }
      },
      "source": [
        "print('hello world')"
      ],
      "execution_count": 1,
      "outputs": [
        {
          "output_type": "stream",
          "text": [
            "hello world\n"
          ],
          "name": "stdout"
        }
      ]
    },
    {
      "cell_type": "code",
      "metadata": {
        "id": "TTF7p3KChv3o",
        "colab_type": "code",
        "outputId": "10ae5cf3-c482-45b7-ce02-e32191624cb6",
        "colab": {
          "base_uri": "https://localhost:8080/",
          "height": 34
        }
      },
      "source": [
        "1+1"
      ],
      "execution_count": 2,
      "outputs": [
        {
          "output_type": "execute_result",
          "data": {
            "text/plain": [
              "2"
            ]
          },
          "metadata": {
            "tags": []
          },
          "execution_count": 2
        }
      ]
    },
    {
      "cell_type": "code",
      "metadata": {
        "id": "HczJXIyh3UqT",
        "colab_type": "code",
        "colab": {}
      },
      "source": [
        "primes_list=(2,3, 5, 7, 11, 13, 17, 19, 23, 29, 31, 37, 41, 43, 47, 53, 59, 61, 67, 71, 73, 79, 83, 89, 97) # defines a variable primes_list"
      ],
      "execution_count": 0,
      "outputs": []
    },
    {
      "cell_type": "code",
      "metadata": {
        "id": "lqXv6BwU3tkM",
        "colab_type": "code",
        "outputId": "bdcced92-8b5f-428e-c3e1-1d73b8217255",
        "colab": {
          "base_uri": "https://localhost:8080/",
          "height": 34
        }
      },
      "source": [
        "print(primes_list) # can use the print command to check what is in a variable"
      ],
      "execution_count": 4,
      "outputs": [
        {
          "output_type": "stream",
          "text": [
            "(2, 3, 5, 7, 11, 13, 17, 19, 23, 29, 31, 37, 41, 43, 47, 53, 59, 61, 67, 71, 73, 79, 83, 89, 97)\n"
          ],
          "name": "stdout"
        }
      ]
    },
    {
      "cell_type": "code",
      "metadata": {
        "id": "gKddWBOn4CDU",
        "colab_type": "code",
        "outputId": "1bf085bc-29c3-4e0d-cb7c-7d35ec87c0bb",
        "colab": {
          "base_uri": "https://localhost:8080/",
          "height": 442
        }
      },
      "source": [
        "primes_list # short hand to print out our variable primes_list"
      ],
      "execution_count": 5,
      "outputs": [
        {
          "output_type": "execute_result",
          "data": {
            "text/plain": [
              "(2,\n",
              " 3,\n",
              " 5,\n",
              " 7,\n",
              " 11,\n",
              " 13,\n",
              " 17,\n",
              " 19,\n",
              " 23,\n",
              " 29,\n",
              " 31,\n",
              " 37,\n",
              " 41,\n",
              " 43,\n",
              " 47,\n",
              " 53,\n",
              " 59,\n",
              " 61,\n",
              " 67,\n",
              " 71,\n",
              " 73,\n",
              " 79,\n",
              " 83,\n",
              " 89,\n",
              " 97)"
            ]
          },
          "metadata": {
            "tags": []
          },
          "execution_count": 5
        }
      ]
    },
    {
      "cell_type": "code",
      "metadata": {
        "id": "gGmBFl_P4oOE",
        "colab_type": "code",
        "outputId": "b52e5108-a051-4c5c-ce0a-d519e045f4ff",
        "colab": {
          "base_uri": "https://localhost:8080/",
          "height": 34
        }
      },
      "source": [
        "primes_list[0] # indexing starts at zero in Python"
      ],
      "execution_count": 0,
      "outputs": [
        {
          "output_type": "execute_result",
          "data": {
            "text/plain": [
              "2"
            ]
          },
          "metadata": {
            "tags": []
          },
          "execution_count": 21
        }
      ]
    },
    {
      "cell_type": "code",
      "metadata": {
        "id": "Z4e3cZUU4m-z",
        "colab_type": "code",
        "outputId": "c8954efd-385e-4763-caf3-9f5d40df313b",
        "colab": {
          "base_uri": "https://localhost:8080/",
          "height": 34
        }
      },
      "source": [
        "primes_list[2]"
      ],
      "execution_count": 0,
      "outputs": [
        {
          "output_type": "execute_result",
          "data": {
            "text/plain": [
              "5"
            ]
          },
          "metadata": {
            "tags": []
          },
          "execution_count": 22
        }
      ]
    },
    {
      "cell_type": "code",
      "metadata": {
        "id": "CT9_EAWF4kY7",
        "colab_type": "code",
        "colab": {}
      },
      "source": [
        "import numpy as np # importing numpy, a module that we will use for math and linear algebra\n"
      ],
      "execution_count": 0,
      "outputs": []
    },
    {
      "cell_type": "code",
      "metadata": {
        "id": "yDzJYQSZ5hBk",
        "colab_type": "code",
        "colab": {}
      },
      "source": [
        "primes_array=np.array(primes_list) # create an array called primes_array from primes_list"
      ],
      "execution_count": 0,
      "outputs": []
    },
    {
      "cell_type": "code",
      "metadata": {
        "id": "Z0Xr8LZl5FAc",
        "colab_type": "code",
        "outputId": "210b1f34-59a6-4c93-d019-ac0b02c33687",
        "colab": {
          "base_uri": "https://localhost:8080/",
          "height": 51
        }
      },
      "source": [
        "primes_array"
      ],
      "execution_count": 13,
      "outputs": [
        {
          "output_type": "execute_result",
          "data": {
            "text/plain": [
              "array([ 2,  3,  5,  7, 11, 13, 17, 19, 23, 29, 31, 37, 41, 43, 47, 53, 59,\n",
              "       61, 67, 71, 73, 79, 83, 89, 97])"
            ]
          },
          "metadata": {
            "tags": []
          },
          "execution_count": 13
        }
      ]
    },
    {
      "cell_type": "code",
      "metadata": {
        "id": "JOgVvDdv5jfY",
        "colab_type": "code",
        "outputId": "2ed977b9-ee7e-47a8-cf14-a7cab19dd1e6",
        "colab": {
          "base_uri": "https://localhost:8080/",
          "height": 34
        }
      },
      "source": [
        "primes_array[0] # arrays start with 0th element"
      ],
      "execution_count": 14,
      "outputs": [
        {
          "output_type": "execute_result",
          "data": {
            "text/plain": [
              "2"
            ]
          },
          "metadata": {
            "tags": []
          },
          "execution_count": 14
        }
      ]
    },
    {
      "cell_type": "code",
      "metadata": {
        "id": "VI22ZrWN5x1L",
        "colab_type": "code",
        "outputId": "daa0dd34-4e12-4888-d97f-6bf96376e8e9",
        "colab": {
          "base_uri": "https://localhost:8080/",
          "height": 34
        }
      },
      "source": [
        "primes_array[3] # 4th element of the array"
      ],
      "execution_count": 23,
      "outputs": [
        {
          "output_type": "execute_result",
          "data": {
            "text/plain": [
              "7"
            ]
          },
          "metadata": {
            "tags": []
          },
          "execution_count": 23
        }
      ]
    },
    {
      "cell_type": "code",
      "metadata": {
        "id": "8srKAHGB54jg",
        "colab_type": "code",
        "outputId": "c7560293-f525-4715-b709-dd22f1be15a6",
        "colab": {
          "base_uri": "https://localhost:8080/",
          "height": 34
        }
      },
      "source": [
        "np.mean(primes_array) # mean or average value"
      ],
      "execution_count": 24,
      "outputs": [
        {
          "output_type": "execute_result",
          "data": {
            "text/plain": [
              "42.4"
            ]
          },
          "metadata": {
            "tags": []
          },
          "execution_count": 24
        }
      ]
    },
    {
      "cell_type": "code",
      "metadata": {
        "id": "f-7R7A0H5-g3",
        "colab_type": "code",
        "outputId": "5a8953ce-c51b-4137-b146-450419753ab8",
        "colab": {
          "base_uri": "https://localhost:8080/",
          "height": 34
        }
      },
      "source": [
        "np.median(primes_array) # median value"
      ],
      "execution_count": 25,
      "outputs": [
        {
          "output_type": "execute_result",
          "data": {
            "text/plain": [
              "41.0"
            ]
          },
          "metadata": {
            "tags": []
          },
          "execution_count": 25
        }
      ]
    },
    {
      "cell_type": "code",
      "metadata": {
        "id": "JuCyNc3u6F6l",
        "colab_type": "code",
        "outputId": "1ac48596-53be-49b6-bb9e-e3cce699732a",
        "colab": {
          "base_uri": "https://localhost:8080/",
          "height": 34
        }
      },
      "source": [
        "np.min(primes_array) # maximum value"
      ],
      "execution_count": 26,
      "outputs": [
        {
          "output_type": "execute_result",
          "data": {
            "text/plain": [
              "2"
            ]
          },
          "metadata": {
            "tags": []
          },
          "execution_count": 26
        }
      ]
    },
    {
      "cell_type": "code",
      "metadata": {
        "id": "l0-ieYIy6xj4",
        "colab_type": "code",
        "outputId": "df97b532-b96b-49a4-9a3a-4ae65d97797d",
        "colab": {
          "base_uri": "https://localhost:8080/",
          "height": 34
        }
      },
      "source": [
        "np.max(primes_array) # maximum value"
      ],
      "execution_count": 27,
      "outputs": [
        {
          "output_type": "execute_result",
          "data": {
            "text/plain": [
              "97"
            ]
          },
          "metadata": {
            "tags": []
          },
          "execution_count": 27
        }
      ]
    },
    {
      "cell_type": "code",
      "metadata": {
        "id": "UWqMP9YZ61Kl",
        "colab_type": "code",
        "colab": {}
      },
      "source": [
        "primes_range=np.max(primes_array)-np.min(primes_array) # max minus min"
      ],
      "execution_count": 0,
      "outputs": []
    },
    {
      "cell_type": "code",
      "metadata": {
        "id": "LChJBl1j7ioH",
        "colab_type": "code",
        "outputId": "ef553b1a-2340-4bd5-d952-99f4ad3f005a",
        "colab": {
          "base_uri": "https://localhost:8080/",
          "height": 34
        }
      },
      "source": [
        "primes_range"
      ],
      "execution_count": 29,
      "outputs": [
        {
          "output_type": "execute_result",
          "data": {
            "text/plain": [
              "95"
            ]
          },
          "metadata": {
            "tags": []
          },
          "execution_count": 29
        }
      ]
    },
    {
      "cell_type": "code",
      "metadata": {
        "id": "VZRVIc_E7nXq",
        "colab_type": "code",
        "colab": {}
      },
      "source": [
        "primes_SD=np.std(my_primes_array)"
      ],
      "execution_count": 0,
      "outputs": []
    },
    {
      "cell_type": "code",
      "metadata": {
        "id": "xyBb6NVv72Cs",
        "colab_type": "code",
        "outputId": "09af1e8d-9cb6-4456-b7b2-815482bd186d",
        "colab": {
          "base_uri": "https://localhost:8080/",
          "height": 34
        }
      },
      "source": [
        "print(primes_SD)"
      ],
      "execution_count": 31,
      "outputs": [
        {
          "output_type": "stream",
          "text": [
            "28.880443209895517\n"
          ],
          "name": "stdout"
        }
      ]
    },
    {
      "cell_type": "markdown",
      "metadata": {
        "id": "ECMF0hhc--q2",
        "colab_type": "text"
      },
      "source": [
        "### Import required python libraries\n",
        "\n",
        "We begin by importing a few basic python libraries for data analysis and visualization. We will start with the following:\n",
        "\n",
        "- pandas: data analysis\n",
        "- numpy: numerical computing and linear algebra in python\n",
        "- datetime: date and time functionality\n",
        "- matplotlib: plotting and data visualization tools\n",
        "- seaborn: interface to matplotlib for easier (and prettier) plotting"
      ]
    },
    {
      "cell_type": "code",
      "metadata": {
        "id": "GRma8nos--q3",
        "colab_type": "code",
        "colab": {}
      },
      "source": [
        "import pandas as pd   # We give the libraries short names for easier referencing\n",
        "import numpy as np\n",
        "import datetime\n",
        "import matplotlib.pyplot as plt\n",
        "import seaborn as sns\n",
        "%matplotlib inline  \n",
        "# This allows us to display plots right within our Jupyter notebook"
      ],
      "execution_count": 0,
      "outputs": []
    }
  ]
}
