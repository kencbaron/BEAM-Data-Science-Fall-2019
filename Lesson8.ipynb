{
  "nbformat": 4,
  "nbformat_minor": 0,
  "metadata": {
    "colab": {
      "name": "05_linear_regression.ipynb",
      "provenance": [],
      "include_colab_link": true
    },
    "kernelspec": {
      "display_name": "Python 3",
      "language": "python",
      "name": "python3"
    }
  },
  "cells": [
    {
      "cell_type": "markdown",
      "metadata": {
        "id": "view-in-github",
        "colab_type": "text"
      },
      "source": [
        "<a href=\"https://colab.research.google.com/github/kencbaron/BEAM-Data-Science-Fall-2019/blob/master/Lesson8.ipynb\" target=\"_parent\"><img src=\"https://colab.research.google.com/assets/colab-badge.svg\" alt=\"Open In Colab\"/></a>"
      ]
    },
    {
      "cell_type": "markdown",
      "metadata": {
        "id": "6gb9hTmhiAzC",
        "colab_type": "text"
      },
      "source": [
        "<h1> Multiple Regression, Goodness of Fit, Residual Analysis </h1>"
      ]
    },
    {
      "cell_type": "markdown",
      "metadata": {
        "id": "9r-3DuWFiAzE",
        "colab_type": "text"
      },
      "source": [
        "<h2>Key Concepts</h2>\n",
        "\n",
        "- Multiple Regression\n",
        "- Wrapping up with the World Happiness Data Set\n"
      ]
    },
    {
      "cell_type": "markdown",
      "metadata": {
        "id": "yIE_TuiKiAzE",
        "colab_type": "text"
      },
      "source": [
        "<h2> Shout Outs </h2>\n",
        "\n",
        "Walt H, Harold F and Peter T. And Aditi K, Greg S, Jinger Z, Steven K, and Xufei W\n",
        "\n",
        "Books\n",
        "Stephen Klosterman, Data Science Projects with Python\n",
        "Jake VanderPlas, Python Data Science Handbook\n",
        "Wes McKinney, Python for Data Analysis\n",
        "Thomas Haslwanter, An Introduction to Statistics with Python\n",
        "Joel Grus, Data Science from Scratch\n",
        "John Kelleher and Brendan Tierney, Data Science\n",
        "\n",
        "\n",
        "<h2>Loading Packages </h2>"
      ]
    },
    {
      "cell_type": "markdown",
      "metadata": {
        "id": "_m37GPWtiAzF",
        "colab_type": "text"
      },
      "source": [
        "First, we will load some helpful Python statistics packages:\n",
        "\n",
        "- Pandas is a general purpose package for data analysis, particularly datasets that are measured over time (*pan*el *da*taset*s*)\n",
        "- Numpy is a package for easily manipulating matrices and includes some basic multivariate statistics and linear algebra functions\n",
        "- Matplotlib is a package for plotting data\n",
        "\n",
        "All of these packages can be downloaded for free online."
      ]
    },
    {
      "cell_type": "code",
      "metadata": {
        "id": "c0VeOkVGiAzG",
        "colab_type": "code",
        "colab": {}
      },
      "source": [
        "import pandas as pd # loading Pandas, a module for data analysis\n",
        "import numpy as np # loading Numpy, a module for matrices and linear algebra\n",
        "import matplotlib.pyplot as plt # loading matplotlib.pyplot, a module useful for interactiveplotting\n",
        "import warnings; warnings.simplefilter('ignore')  # suppressing warnings "
      ],
      "execution_count": 0,
      "outputs": []
    },
    {
      "cell_type": "markdown",
      "metadata": {
        "id": "9_wRfLTqiAzI",
        "colab_type": "text"
      },
      "source": [
        "We return to the **World Happiness Report 2018**. The World Happiness Report is a landmark survey of the state of global happiness. It ranks 156 countries by their happiness levels.The report is produced by the United Nations Sustainable Development Solutions Network in partnership with the Ernesto Illy Foundation.                                                                    <br><br> For more information about the report read **http://worldhappiness.report/ed/2018/**.    The dataset comes as a list of comma-separated values (.csv), for which Pandas provides a convenient loading function.\n",
        "\n",
        "*   List item\n",
        "\n",
        "1.   List item\n",
        "2.   List item\n",
        "\n",
        "\n",
        "*   List item\n",
        "\n"
      ]
    },
    {
      "cell_type": "markdown",
      "metadata": {
        "id": "hwVSoF6XiAzJ",
        "colab_type": "text"
      },
      "source": [
        "##### Download the data"
      ]
    },
    {
      "cell_type": "code",
      "metadata": {
        "id": "TkAQ3iSPiogH",
        "colab_type": "code",
        "outputId": "5d80a53b-31b2-46e2-dde2-b736c0247d47",
        "colab": {
          "base_uri": "https://localhost:8080/",
          "height": 136
        }
      },
      "source": [
        "!git clone https://@github.com/kencbaron/BEAM-Data-Science-Fall-2019 # cloning an existing github repository"
      ],
      "execution_count": 2,
      "outputs": [
        {
          "output_type": "stream",
          "text": [
            "Cloning into 'BEAM-Data-Science-Fall-2019'...\n",
            "remote: Enumerating objects: 43, done.\u001b[K\n",
            "remote: Counting objects: 100% (43/43), done.\u001b[K\n",
            "remote: Compressing objects: 100% (43/43), done.\u001b[K\n",
            "remote: Total 679 (delta 25), reused 0 (delta 0), pack-reused 636\u001b[K\n",
            "Receiving objects: 100% (679/679), 16.88 MiB | 13.63 MiB/s, done.\n",
            "Resolving deltas: 100% (382/382), done.\n"
          ],
          "name": "stdout"
        }
      ]
    },
    {
      "cell_type": "code",
      "metadata": {
        "id": "ivpmjVozjWQL",
        "colab_type": "code",
        "outputId": "043e596f-4a0d-4a91-d4d5-0c29acf42994",
        "colab": {
          "base_uri": "https://localhost:8080/",
          "height": 34
        }
      },
      "source": [
        "!ls # list files"
      ],
      "execution_count": 3,
      "outputs": [
        {
          "output_type": "stream",
          "text": [
            "BEAM-Data-Science-Fall-2019  sample_data\n"
          ],
          "name": "stdout"
        }
      ]
    },
    {
      "cell_type": "markdown",
      "metadata": {
        "id": "-JBH02o5jtty",
        "colab_type": "text"
      },
      "source": [
        "##### Let's look at the data"
      ]
    },
    {
      "cell_type": "code",
      "metadata": {
        "id": "-XfE7QiFiAzK",
        "colab_type": "code",
        "colab": {}
      },
      "source": [
        "data_all = pd.read_csv(\"BEAM-Data-Science-Fall-2019/datasets/world_happiness_report_2018.csv\") # reading our csv dataset into the variable name data_all # using Pandas to load data\n"
      ],
      "execution_count": 0,
      "outputs": []
    },
    {
      "cell_type": "code",
      "metadata": {
        "id": "vB5w95UpQlMK",
        "colab_type": "code",
        "colab": {}
      },
      "source": [
        "data_all = data_all.dropna() # removing NAs or missing values\n"
      ],
      "execution_count": 0,
      "outputs": []
    },
    {
      "cell_type": "code",
      "metadata": {
        "id": "jPuPKIcQQfbM",
        "colab_type": "code",
        "outputId": "1f5a10c6-b015-4488-c6cb-f87061a100e7",
        "colab": {
          "base_uri": "https://localhost:8080/",
          "height": 255
        }
      },
      "source": [
        "data_all.head() # the head command shows us the first few rows (5 rows by default) in a data set"
      ],
      "execution_count": 6,
      "outputs": [
        {
          "output_type": "execute_result",
          "data": {
            "text/html": [
              "<div>\n",
              "<style scoped>\n",
              "    .dataframe tbody tr th:only-of-type {\n",
              "        vertical-align: middle;\n",
              "    }\n",
              "\n",
              "    .dataframe tbody tr th {\n",
              "        vertical-align: top;\n",
              "    }\n",
              "\n",
              "    .dataframe thead th {\n",
              "        text-align: right;\n",
              "    }\n",
              "</style>\n",
              "<table border=\"1\" class=\"dataframe\">\n",
              "  <thead>\n",
              "    <tr style=\"text-align: right;\">\n",
              "      <th></th>\n",
              "      <th>year</th>\n",
              "      <th>country</th>\n",
              "      <th>Life Ladder</th>\n",
              "      <th>GDP per capita</th>\n",
              "      <th>Log GDP per capita</th>\n",
              "      <th>Social support</th>\n",
              "      <th>Healthy life expectancy at birth</th>\n",
              "      <th>Freedom to make life choices</th>\n",
              "      <th>Generosity</th>\n",
              "      <th>Perceptions of corruption</th>\n",
              "      <th>Positive affect</th>\n",
              "      <th>Negative affect</th>\n",
              "      <th>Confidence in national government</th>\n",
              "      <th>Democratic Quality</th>\n",
              "      <th>Delivery Quality</th>\n",
              "      <th>Standard deviation of ladder by country-year</th>\n",
              "      <th>Standard deviation/Mean of ladder by country-year</th>\n",
              "    </tr>\n",
              "  </thead>\n",
              "  <tbody>\n",
              "    <tr>\n",
              "      <th>0</th>\n",
              "      <td>2008</td>\n",
              "      <td>Afghanistan</td>\n",
              "      <td>3.723590</td>\n",
              "      <td>1298.143187</td>\n",
              "      <td>7.168690</td>\n",
              "      <td>0.450662</td>\n",
              "      <td>49.209663</td>\n",
              "      <td>0.718114</td>\n",
              "      <td>0.181819</td>\n",
              "      <td>0.881686</td>\n",
              "      <td>0.517637</td>\n",
              "      <td>0.258195</td>\n",
              "      <td>0.612072</td>\n",
              "      <td>-1.929690</td>\n",
              "      <td>-1.655084</td>\n",
              "      <td>1.774662</td>\n",
              "      <td>0.476600</td>\n",
              "    </tr>\n",
              "    <tr>\n",
              "      <th>1</th>\n",
              "      <td>2009</td>\n",
              "      <td>Afghanistan</td>\n",
              "      <td>4.401778</td>\n",
              "      <td>1531.173670</td>\n",
              "      <td>7.333790</td>\n",
              "      <td>0.552308</td>\n",
              "      <td>49.624432</td>\n",
              "      <td>0.678896</td>\n",
              "      <td>0.203614</td>\n",
              "      <td>0.850035</td>\n",
              "      <td>0.583926</td>\n",
              "      <td>0.237092</td>\n",
              "      <td>0.611545</td>\n",
              "      <td>-2.044093</td>\n",
              "      <td>-1.635025</td>\n",
              "      <td>1.722688</td>\n",
              "      <td>0.391362</td>\n",
              "    </tr>\n",
              "    <tr>\n",
              "      <th>2</th>\n",
              "      <td>2010</td>\n",
              "      <td>Afghanistan</td>\n",
              "      <td>4.758381</td>\n",
              "      <td>1614.254676</td>\n",
              "      <td>7.386629</td>\n",
              "      <td>0.539075</td>\n",
              "      <td>50.008961</td>\n",
              "      <td>0.600127</td>\n",
              "      <td>0.137630</td>\n",
              "      <td>0.706766</td>\n",
              "      <td>0.618265</td>\n",
              "      <td>0.275324</td>\n",
              "      <td>0.299357</td>\n",
              "      <td>-1.991810</td>\n",
              "      <td>-1.617176</td>\n",
              "      <td>1.878622</td>\n",
              "      <td>0.394803</td>\n",
              "    </tr>\n",
              "    <tr>\n",
              "      <th>3</th>\n",
              "      <td>2011</td>\n",
              "      <td>Afghanistan</td>\n",
              "      <td>3.831719</td>\n",
              "      <td>1660.739990</td>\n",
              "      <td>7.415019</td>\n",
              "      <td>0.521104</td>\n",
              "      <td>50.367298</td>\n",
              "      <td>0.495901</td>\n",
              "      <td>0.175329</td>\n",
              "      <td>0.731109</td>\n",
              "      <td>0.611387</td>\n",
              "      <td>0.267175</td>\n",
              "      <td>0.307386</td>\n",
              "      <td>-1.919018</td>\n",
              "      <td>-1.616221</td>\n",
              "      <td>1.785360</td>\n",
              "      <td>0.465942</td>\n",
              "    </tr>\n",
              "    <tr>\n",
              "      <th>4</th>\n",
              "      <td>2012</td>\n",
              "      <td>Afghanistan</td>\n",
              "      <td>3.782938</td>\n",
              "      <td>1839.273771</td>\n",
              "      <td>7.517126</td>\n",
              "      <td>0.520637</td>\n",
              "      <td>50.709263</td>\n",
              "      <td>0.530935</td>\n",
              "      <td>0.247159</td>\n",
              "      <td>0.775620</td>\n",
              "      <td>0.710385</td>\n",
              "      <td>0.267919</td>\n",
              "      <td>0.435440</td>\n",
              "      <td>-1.842996</td>\n",
              "      <td>-1.404078</td>\n",
              "      <td>1.798283</td>\n",
              "      <td>0.475367</td>\n",
              "    </tr>\n",
              "  </tbody>\n",
              "</table>\n",
              "</div>"
            ],
            "text/plain": [
              "   year  ... Standard deviation/Mean of ladder by country-year\n",
              "0  2008  ...                                          0.476600\n",
              "1  2009  ...                                          0.391362\n",
              "2  2010  ...                                          0.394803\n",
              "3  2011  ...                                          0.465942\n",
              "4  2012  ...                                          0.475367\n",
              "\n",
              "[5 rows x 17 columns]"
            ]
          },
          "metadata": {
            "tags": []
          },
          "execution_count": 6
        }
      ]
    },
    {
      "cell_type": "code",
      "metadata": {
        "id": "uq4DbF3TmN7N",
        "colab_type": "code",
        "outputId": "ad290c1b-1a01-4d0e-bdff-92e1afb95f33",
        "colab": {
          "base_uri": "https://localhost:8080/",
          "height": 825
        }
      },
      "source": [
        "fig = plt.figure(figsize = (15,14)) # setting width and height in inches for our plots\n",
        "ax = fig.gca() # gca for get current axes\n",
        "data_all.hist(ax = ax); # histogram of our variables"
      ],
      "execution_count": 7,
      "outputs": [
        {
          "output_type": "display_data",
          "data": {
            "image/png": "[encoded data removed]",
            "text/plain": [
              "<Figure size 1080x1008 with 16 Axes>"
            ]
          },
          "metadata": {
            "tags": []
          }
        }
      ]
    },
    {
      "cell_type": "markdown",
      "metadata": {
        "id": "EHvuxJDaW-37",
        "colab_type": "text"
      },
      "source": [
        "Let's discuss a few of our variables a bit more; see handouts on World Happiness, GDP Per Capita, Life Ladder\n",
        "\n",
        "To make sure we understand the life ladder and also for fun, let's do an exercise where everyone submits their Happiness Score. \n",
        "* For this class, we scored an average 5.9, which is above the midpoint. \n"
      ]
    },
    {
      "cell_type": "markdown",
      "metadata": {
        "id": "GNZaCPM9iAzS",
        "colab_type": "text"
      },
      "source": [
        "An obvious hypothesis to test is whether or not more developed countries have higher levels of happiness. In other words, does higher GDP suggest higher Life Ladder score. We first plot the data to see if there is a relationship between the two variables."
      ]
    },
    {
      "cell_type": "code",
      "metadata": {
        "id": "CokAGtXriAzT",
        "colab_type": "code",
        "outputId": "d63356d8-0b93-4d89-a39d-71653358e0a7",
        "colab": {
          "base_uri": "https://localhost:8080/",
          "height": 51
        }
      },
      "source": [
        "plt.figure(figsize=(10, 6)) # setting the visual size of our plot\n"
      ],
      "execution_count": 0,
      "outputs": [
        {
          "output_type": "execute_result",
          "data": {
            "text/plain": [
              "<Figure size 720x432 with 0 Axes>"
            ]
          },
          "metadata": {
            "tags": []
          },
          "execution_count": 9
        },
        {
          "output_type": "display_data",
          "data": {
            "text/plain": [
              "<Figure size 720x432 with 0 Axes>"
            ]
          },
          "metadata": {
            "tags": []
          }
        }
      ]
    },
    {
      "cell_type": "code",
      "metadata": {
        "id": "3hvBnOOPUdOh",
        "colab_type": "code",
        "colab": {}
      },
      "source": [
        "data = data_all[data_all['year'] == 2016] # 2016 is the most recent year that we have data available for \n"
      ],
      "execution_count": 0,
      "outputs": []
    },
    {
      "cell_type": "markdown",
      "metadata": {
        "id": "UfgWJcXVNTV7",
        "colab_type": "text"
      },
      "source": [
        "Looking at countries with highest GDP per capita"
      ]
    },
    {
      "cell_type": "code",
      "metadata": {
        "id": "CUASqsqXlSn4",
        "colab_type": "code",
        "outputId": "091d062e-2f4d-45bb-efe0-95c63ed20376",
        "colab": {
          "base_uri": "https://localhost:8080/",
          "height": 131
        }
      },
      "source": [
        "data[data['country'] == 'United States'] # looking at the US"
      ],
      "execution_count": 0,
      "outputs": [
        {
          "output_type": "execute_result",
          "data": {
            "text/html": [
              "<div>\n",
              "<style scoped>\n",
              "    .dataframe tbody tr th:only-of-type {\n",
              "        vertical-align: middle;\n",
              "    }\n",
              "\n",
              "    .dataframe tbody tr th {\n",
              "        vertical-align: top;\n",
              "    }\n",
              "\n",
              "    .dataframe thead th {\n",
              "        text-align: right;\n",
              "    }\n",
              "</style>\n",
              "<table border=\"1\" class=\"dataframe\">\n",
              "  <thead>\n",
              "    <tr style=\"text-align: right;\">\n",
              "      <th></th>\n",
              "      <th>year</th>\n",
              "      <th>country</th>\n",
              "      <th>Life Ladder</th>\n",
              "      <th>GDP per capita</th>\n",
              "      <th>Log GDP per capita</th>\n",
              "      <th>Social support</th>\n",
              "      <th>Healthy life expectancy at birth</th>\n",
              "      <th>Freedom to make life choices</th>\n",
              "      <th>Generosity</th>\n",
              "      <th>Perceptions of corruption</th>\n",
              "      <th>Positive affect</th>\n",
              "      <th>Negative affect</th>\n",
              "      <th>Confidence in national government</th>\n",
              "      <th>Democratic Quality</th>\n",
              "      <th>Delivery Quality</th>\n",
              "      <th>Standard deviation of ladder by country-year</th>\n",
              "      <th>Standard deviation/Mean of ladder by country-year</th>\n",
              "    </tr>\n",
              "  </thead>\n",
              "  <tbody>\n",
              "    <tr>\n",
              "      <th>1122</th>\n",
              "      <td>2016</td>\n",
              "      <td>United States</td>\n",
              "      <td>6.8036</td>\n",
              "      <td>53341.808911</td>\n",
              "      <td>10.884476</td>\n",
              "      <td>0.896751</td>\n",
              "      <td>69.77092</td>\n",
              "      <td>0.757893</td>\n",
              "      <td>0.128466</td>\n",
              "      <td>0.73892</td>\n",
              "      <td>0.805674</td>\n",
              "      <td>0.264204</td>\n",
              "      <td>0.297206</td>\n",
              "      <td>0.728749</td>\n",
              "      <td>1.493718</td>\n",
              "      <td>1.972203</td>\n",
              "      <td>0.289876</td>\n",
              "    </tr>\n",
              "  </tbody>\n",
              "</table>\n",
              "</div>"
            ],
            "text/plain": [
              "      year  ... Standard deviation/Mean of ladder by country-year\n",
              "1122  2016  ...                                          0.289876\n",
              "\n",
              "[1 rows x 17 columns]"
            ]
          },
          "metadata": {
            "tags": []
          },
          "execution_count": 12
        }
      ]
    },
    {
      "cell_type": "code",
      "metadata": {
        "id": "tOSZiUAxasrf",
        "colab_type": "code",
        "outputId": "dd644351-6bb8-47bc-a596-3c39ac59e23c",
        "colab": {
          "base_uri": "https://localhost:8080/",
          "height": 114
        }
      },
      "source": [
        "data[data['country'] == 'Poland'] # looking at Poland"
      ],
      "execution_count": 0,
      "outputs": [
        {
          "output_type": "execute_result",
          "data": {
            "text/html": [
              "<div>\n",
              "<style scoped>\n",
              "    .dataframe tbody tr th:only-of-type {\n",
              "        vertical-align: middle;\n",
              "    }\n",
              "\n",
              "    .dataframe tbody tr th {\n",
              "        vertical-align: top;\n",
              "    }\n",
              "\n",
              "    .dataframe thead th {\n",
              "        text-align: right;\n",
              "    }\n",
              "</style>\n",
              "<table border=\"1\" class=\"dataframe\">\n",
              "  <thead>\n",
              "    <tr style=\"text-align: right;\">\n",
              "      <th></th>\n",
              "      <th>year</th>\n",
              "      <th>country</th>\n",
              "      <th>Life Ladder</th>\n",
              "      <th>GDP per capita</th>\n",
              "      <th>Log GDP per capita</th>\n",
              "      <th>Social support</th>\n",
              "      <th>Healthy life expectancy at birth</th>\n",
              "      <th>Freedom to make life choices</th>\n",
              "      <th>Generosity</th>\n",
              "      <th>Perceptions of corruption</th>\n",
              "      <th>Positive affect</th>\n",
              "      <th>Negative affect</th>\n",
              "      <th>Confidence in national government</th>\n",
              "      <th>Democratic Quality</th>\n",
              "      <th>Delivery Quality</th>\n",
              "      <th>Standard deviation of ladder by country-year</th>\n",
              "      <th>Standard deviation/Mean of ladder by country-year</th>\n",
              "    </tr>\n",
              "  </thead>\n",
              "  <tbody>\n",
              "    <tr>\n",
              "      <th>873</th>\n",
              "      <td>2016</td>\n",
              "      <td>Poland</td>\n",
              "      <td>6.162076</td>\n",
              "      <td>26050.974101</td>\n",
              "      <td>10.16781</td>\n",
              "      <td>0.917399</td>\n",
              "      <td>68.572601</td>\n",
              "      <td>0.870708</td>\n",
              "      <td>-0.102383</td>\n",
              "      <td>0.847754</td>\n",
              "      <td>0.776625</td>\n",
              "      <td>0.223536</td>\n",
              "      <td>0.382713</td>\n",
              "      <td>0.674186</td>\n",
              "      <td>0.767235</td>\n",
              "      <td>1.845849</td>\n",
              "      <td>0.29955</td>\n",
              "    </tr>\n",
              "  </tbody>\n",
              "</table>\n",
              "</div>"
            ],
            "text/plain": [
              "     year  ... Standard deviation/Mean of ladder by country-year\n",
              "873  2016  ...                                           0.29955\n",
              "\n",
              "[1 rows x 17 columns]"
            ]
          },
          "metadata": {
            "tags": []
          },
          "execution_count": 13
        }
      ]
    },
    {
      "cell_type": "markdown",
      "metadata": {
        "id": "3M9MGFiQbSQd",
        "colab_type": "text"
      },
      "source": [
        "% Exercise - You pick a country or two"
      ]
    },
    {
      "cell_type": "code",
      "metadata": {
        "id": "ZdbBPoW_ncfQ",
        "colab_type": "code",
        "outputId": "8fdeb771-6e45-436d-b825-635a6c94e3fb",
        "colab": {
          "base_uri": "https://localhost:8080/",
          "height": 427
        }
      },
      "source": [
        "data.sort_values(by = 'GDP per capita', ascending = False).head(10) # sorting by GDP per capita"
      ],
      "execution_count": 0,
      "outputs": [
        {
          "output_type": "execute_result",
          "data": {
            "text/html": [
              "<div>\n",
              "<style scoped>\n",
              "    .dataframe tbody tr th:only-of-type {\n",
              "        vertical-align: middle;\n",
              "    }\n",
              "\n",
              "    .dataframe tbody tr th {\n",
              "        vertical-align: top;\n",
              "    }\n",
              "\n",
              "    .dataframe thead th {\n",
              "        text-align: right;\n",
              "    }\n",
              "</style>\n",
              "<table border=\"1\" class=\"dataframe\">\n",
              "  <thead>\n",
              "    <tr style=\"text-align: right;\">\n",
              "      <th></th>\n",
              "      <th>year</th>\n",
              "      <th>country</th>\n",
              "      <th>Life Ladder</th>\n",
              "      <th>GDP per capita</th>\n",
              "      <th>Log GDP per capita</th>\n",
              "      <th>Social support</th>\n",
              "      <th>Healthy life expectancy at birth</th>\n",
              "      <th>Freedom to make life choices</th>\n",
              "      <th>Generosity</th>\n",
              "      <th>Perceptions of corruption</th>\n",
              "      <th>Positive affect</th>\n",
              "      <th>Negative affect</th>\n",
              "      <th>Confidence in national government</th>\n",
              "      <th>Democratic Quality</th>\n",
              "      <th>Delivery Quality</th>\n",
              "      <th>Standard deviation of ladder by country-year</th>\n",
              "      <th>Standard deviation/Mean of ladder by country-year</th>\n",
              "    </tr>\n",
              "  </thead>\n",
              "  <tbody>\n",
              "    <tr>\n",
              "      <th>640</th>\n",
              "      <td>2016</td>\n",
              "      <td>Luxembourg</td>\n",
              "      <td>6.967341</td>\n",
              "      <td>94764.967613</td>\n",
              "      <td>11.459155</td>\n",
              "      <td>0.941261</td>\n",
              "      <td>72.201309</td>\n",
              "      <td>0.882365</td>\n",
              "      <td>0.005298</td>\n",
              "      <td>0.356336</td>\n",
              "      <td>0.757950</td>\n",
              "      <td>0.192301</td>\n",
              "      <td>0.678978</td>\n",
              "      <td>1.421889</td>\n",
              "      <td>1.801323</td>\n",
              "      <td>1.389065</td>\n",
              "      <td>0.199368</td>\n",
              "    </tr>\n",
              "    <tr>\n",
              "      <th>941</th>\n",
              "      <td>2016</td>\n",
              "      <td>Singapore</td>\n",
              "      <td>6.033481</td>\n",
              "      <td>81443.349551</td>\n",
              "      <td>11.307663</td>\n",
              "      <td>0.925128</td>\n",
              "      <td>75.720833</td>\n",
              "      <td>0.903736</td>\n",
              "      <td>0.125498</td>\n",
              "      <td>0.047311</td>\n",
              "      <td>0.823989</td>\n",
              "      <td>0.110942</td>\n",
              "      <td>0.930617</td>\n",
              "      <td>0.622578</td>\n",
              "      <td>2.072999</td>\n",
              "      <td>1.302088</td>\n",
              "      <td>0.215810</td>\n",
              "    </tr>\n",
              "    <tr>\n",
              "      <th>811</th>\n",
              "      <td>2016</td>\n",
              "      <td>Norway</td>\n",
              "      <td>7.596332</td>\n",
              "      <td>64179.059471</td>\n",
              "      <td>11.069432</td>\n",
              "      <td>0.959743</td>\n",
              "      <td>71.086586</td>\n",
              "      <td>0.954352</td>\n",
              "      <td>0.106471</td>\n",
              "      <td>0.409666</td>\n",
              "      <td>0.849626</td>\n",
              "      <td>0.209262</td>\n",
              "      <td>0.657646</td>\n",
              "      <td>1.374090</td>\n",
              "      <td>1.950178</td>\n",
              "      <td>1.579265</td>\n",
              "      <td>0.207898</td>\n",
              "    </tr>\n",
              "    <tr>\n",
              "      <th>520</th>\n",
              "      <td>2016</td>\n",
              "      <td>Ireland</td>\n",
              "      <td>7.040731</td>\n",
              "      <td>62991.887044</td>\n",
              "      <td>11.050761</td>\n",
              "      <td>0.958144</td>\n",
              "      <td>71.575096</td>\n",
              "      <td>0.874589</td>\n",
              "      <td>0.161004</td>\n",
              "      <td>0.398544</td>\n",
              "      <td>0.809203</td>\n",
              "      <td>0.211063</td>\n",
              "      <td>0.574740</td>\n",
              "      <td>1.085433</td>\n",
              "      <td>1.564082</td>\n",
              "      <td>1.843073</td>\n",
              "      <td>0.261773</td>\n",
              "    </tr>\n",
              "    <tr>\n",
              "      <th>1019</th>\n",
              "      <td>2016</td>\n",
              "      <td>Switzerland</td>\n",
              "      <td>7.458520</td>\n",
              "      <td>57430.079606</td>\n",
              "      <td>10.958323</td>\n",
              "      <td>0.927628</td>\n",
              "      <td>73.173759</td>\n",
              "      <td>0.933947</td>\n",
              "      <td>0.075722</td>\n",
              "      <td>0.301563</td>\n",
              "      <td>0.779471</td>\n",
              "      <td>0.206317</td>\n",
              "      <td>0.798537</td>\n",
              "      <td>1.390244</td>\n",
              "      <td>1.980969</td>\n",
              "      <td>1.694410</td>\n",
              "      <td>0.227178</td>\n",
              "    </tr>\n",
              "    <tr>\n",
              "      <th>460</th>\n",
              "      <td>2016</td>\n",
              "      <td>Hong Kong S.A.R. of China</td>\n",
              "      <td>5.498421</td>\n",
              "      <td>54279.205675</td>\n",
              "      <td>10.901896</td>\n",
              "      <td>0.832078</td>\n",
              "      <td>76.268028</td>\n",
              "      <td>0.799743</td>\n",
              "      <td>0.082168</td>\n",
              "      <td>0.402813</td>\n",
              "      <td>0.664093</td>\n",
              "      <td>0.213115</td>\n",
              "      <td>0.449610</td>\n",
              "      <td>0.555141</td>\n",
              "      <td>1.821866</td>\n",
              "      <td>1.819238</td>\n",
              "      <td>0.330866</td>\n",
              "    </tr>\n",
              "    <tr>\n",
              "      <th>1122</th>\n",
              "      <td>2016</td>\n",
              "      <td>United States</td>\n",
              "      <td>6.803600</td>\n",
              "      <td>53341.808911</td>\n",
              "      <td>10.884476</td>\n",
              "      <td>0.896751</td>\n",
              "      <td>69.770920</td>\n",
              "      <td>0.757893</td>\n",
              "      <td>0.128466</td>\n",
              "      <td>0.738920</td>\n",
              "      <td>0.805674</td>\n",
              "      <td>0.264204</td>\n",
              "      <td>0.297206</td>\n",
              "      <td>0.728749</td>\n",
              "      <td>1.493718</td>\n",
              "      <td>1.972203</td>\n",
              "      <td>0.289876</td>\n",
              "    </tr>\n",
              "    <tr>\n",
              "      <th>764</th>\n",
              "      <td>2016</td>\n",
              "      <td>Netherlands</td>\n",
              "      <td>7.540877</td>\n",
              "      <td>47302.682247</td>\n",
              "      <td>10.764322</td>\n",
              "      <td>0.925944</td>\n",
              "      <td>71.619995</td>\n",
              "      <td>0.907310</td>\n",
              "      <td>0.226168</td>\n",
              "      <td>0.433304</td>\n",
              "      <td>0.838432</td>\n",
              "      <td>0.214851</td>\n",
              "      <td>0.572273</td>\n",
              "      <td>1.184741</td>\n",
              "      <td>1.915634</td>\n",
              "      <td>1.281472</td>\n",
              "      <td>0.169937</td>\n",
              "    </tr>\n",
              "    <tr>\n",
              "      <th>1013</th>\n",
              "      <td>2016</td>\n",
              "      <td>Sweden</td>\n",
              "      <td>7.368744</td>\n",
              "      <td>46662.057958</td>\n",
              "      <td>10.750687</td>\n",
              "      <td>0.912061</td>\n",
              "      <td>72.745270</td>\n",
              "      <td>0.918036</td>\n",
              "      <td>0.131626</td>\n",
              "      <td>0.246182</td>\n",
              "      <td>0.815695</td>\n",
              "      <td>0.200607</td>\n",
              "      <td>0.485791</td>\n",
              "      <td>1.241600</td>\n",
              "      <td>1.976513</td>\n",
              "      <td>1.630500</td>\n",
              "      <td>0.221272</td>\n",
              "    </tr>\n",
              "    <tr>\n",
              "      <th>293</th>\n",
              "      <td>2016</td>\n",
              "      <td>Denmark</td>\n",
              "      <td>7.557783</td>\n",
              "      <td>45966.282152</td>\n",
              "      <td>10.735663</td>\n",
              "      <td>0.954452</td>\n",
              "      <td>71.312500</td>\n",
              "      <td>0.948231</td>\n",
              "      <td>0.127812</td>\n",
              "      <td>0.209893</td>\n",
              "      <td>0.836116</td>\n",
              "      <td>0.207583</td>\n",
              "      <td>0.467661</td>\n",
              "      <td>1.161069</td>\n",
              "      <td>1.900531</td>\n",
              "      <td>1.611470</td>\n",
              "      <td>0.213220</td>\n",
              "    </tr>\n",
              "  </tbody>\n",
              "</table>\n",
              "</div>"
            ],
            "text/plain": [
              "      year  ... Standard deviation/Mean of ladder by country-year\n",
              "640   2016  ...                                          0.199368\n",
              "941   2016  ...                                          0.215810\n",
              "811   2016  ...                                          0.207898\n",
              "520   2016  ...                                          0.261773\n",
              "1019  2016  ...                                          0.227178\n",
              "460   2016  ...                                          0.330866\n",
              "1122  2016  ...                                          0.289876\n",
              "764   2016  ...                                          0.169937\n",
              "1013  2016  ...                                          0.221272\n",
              "293   2016  ...                                          0.213220\n",
              "\n",
              "[10 rows x 17 columns]"
            ]
          },
          "metadata": {
            "tags": []
          },
          "execution_count": 14
        }
      ]
    },
    {
      "cell_type": "markdown",
      "metadata": {
        "id": "mkjpr0aLiAzV",
        "colab_type": "text"
      },
      "source": [
        "Life Ladder is higher as GDP increases; the growth slows down as GDP increases. There are some outliers with very high GDP (>$50,000) and not as high Life Ladder."
      ]
    },
    {
      "cell_type": "markdown",
      "metadata": {
        "id": "mHLrHvk0iAzW",
        "colab_type": "text"
      },
      "source": [
        "##### Let's log transform GDP per capita and see if any pattern emmerges "
      ]
    },
    {
      "cell_type": "markdown",
      "metadata": {
        "id": "kurUYZNGiAzW",
        "colab_type": "text"
      },
      "source": [
        "\n",
        "\n",
        "```\n",
        "# This is formatted as code\n",
        "```\n",
        "\n",
        "The log transform is already provided to us. We can simply plug in the transformed column and recreate the above plot."
      ]
    },
    {
      "cell_type": "code",
      "metadata": {
        "id": "tNLdsAVDiAzX",
        "colab_type": "code",
        "outputId": "6ef2777a-c844-4f7f-9367-0d6ac1004f26",
        "colab": {
          "base_uri": "https://localhost:8080/",
          "height": 404
        }
      },
      "source": [
        "plt.figure(figsize=(10, 6)) # figure size \n",
        "plt.plot(data[\"Log GDP per capita\"], data[\"Life Ladder\"], \"o\", markersize=5) # plotting two variables\n",
        "plt.xlabel(\"Log GDP per capita\")\n",
        "plt.ylabel(\"Life Ladder\")\n",
        "plt.title(\"Life Ladder vs Log GDP per Capita\")\n",
        "plt.grid()"
      ],
      "execution_count": 0,
      "outputs": [
        {
          "output_type": "display_data",
          "data": {
            "image/png": "[encoded data removed]",
            "text/plain": [
              "<Figure size 720x432 with 1 Axes>"
            ]
          },
          "metadata": {
            "tags": []
          }
        }
      ]
    },
    {
      "cell_type": "markdown",
      "metadata": {
        "id": "FJ2qTbxviAzy",
        "colab_type": "text"
      },
      "source": [
        "<h2>Fit a Linear Model</h2>"
      ]
    },
    {
      "cell_type": "markdown",
      "metadata": {
        "id": "MroxSK1diAzz",
        "colab_type": "text"
      },
      "source": [
        "Our goal in this section is to find a linear model between Log GDP per capita and Life Ladder.  The linear model has the form\n",
        "\n",
        "$$ \\mathrm{LifeLadder} = a \\cdot \\mathrm{LogGDPPerCapita} + b $$\n",
        "\n",
        "We call $a$ the <b>slope</b> and $b$ the <b>intercept</b>. "
      ]
    },
    {
      "cell_type": "markdown",
      "metadata": {
        "id": "XtL0po56iA0D",
        "colab_type": "text"
      },
      "source": [
        "<h2>Check the Goodness of Fit</h2>"
      ]
    },
    {
      "cell_type": "markdown",
      "metadata": {
        "id": "nbQzx85KiA0D",
        "colab_type": "text"
      },
      "source": [
        "Now that we have our linear model, how do we tell if it's any good?  While we computed the slope and intercept by hand above, let's try doing this within the Python package statsmodels, which will give us a few extra things for free:"
      ]
    },
    {
      "cell_type": "code",
      "metadata": {
        "id": "yl0QrdbuiA0E",
        "colab_type": "code",
        "outputId": "e40ea000-a061-43b7-dac3-9f7e09170167",
        "colab": {
          "base_uri": "https://localhost:8080/",
          "height": 444
        }
      },
      "source": [
        "import statsmodels.api as sm\n",
        "data[\"Constant\"] = 1\n",
        "m = sm.OLS(data[\"Life Ladder\"], data[[\"Log GDP per capita\", \"Constant\"]]).fit()\n",
        "m.summary()"
      ],
      "execution_count": 12,
      "outputs": [
        {
          "output_type": "execute_result",
          "data": {
            "text/html": [
              "<table class=\"simpletable\">\n",
              "<caption>OLS Regression Results</caption>\n",
              "<tr>\n",
              "  <th>Dep. Variable:</th>       <td>Life Ladder</td>   <th>  R-squared:         </th> <td>   0.660</td>\n",
              "</tr>\n",
              "<tr>\n",
              "  <th>Model:</th>                   <td>OLS</td>       <th>  Adj. R-squared:    </th> <td>   0.657</td>\n",
              "</tr>\n",
              "<tr>\n",
              "  <th>Method:</th>             <td>Least Squares</td>  <th>  F-statistic:       </th> <td>   236.9</td>\n",
              "</tr>\n",
              "<tr>\n",
              "  <th>Date:</th>             <td>Sat, 14 Dec 2019</td> <th>  Prob (F-statistic):</th> <td>2.28e-30</td>\n",
              "</tr>\n",
              "<tr>\n",
              "  <th>Time:</th>                 <td>13:31:42</td>     <th>  Log-Likelihood:    </th> <td> -129.99</td>\n",
              "</tr>\n",
              "<tr>\n",
              "  <th>No. Observations:</th>      <td>   124</td>      <th>  AIC:               </th> <td>   264.0</td>\n",
              "</tr>\n",
              "<tr>\n",
              "  <th>Df Residuals:</th>          <td>   122</td>      <th>  BIC:               </th> <td>   269.6</td>\n",
              "</tr>\n",
              "<tr>\n",
              "  <th>Df Model:</th>              <td>     1</td>      <th>                     </th>     <td> </td>   \n",
              "</tr>\n",
              "<tr>\n",
              "  <th>Covariance Type:</th>      <td>nonrobust</td>    <th>                     </th>     <td> </td>   \n",
              "</tr>\n",
              "</table>\n",
              "<table class=\"simpletable\">\n",
              "<tr>\n",
              "           <td></td>             <th>coef</th>     <th>std err</th>      <th>t</th>      <th>P>|t|</th>  <th>[0.025</th>    <th>0.975]</th>  \n",
              "</tr>\n",
              "<tr>\n",
              "  <th>Log GDP per capita</th> <td>    0.7861</td> <td>    0.051</td> <td>   15.392</td> <td> 0.000</td> <td>    0.685</td> <td>    0.887</td>\n",
              "</tr>\n",
              "<tr>\n",
              "  <th>Constant</th>           <td>   -1.8939</td> <td>    0.476</td> <td>   -3.977</td> <td> 0.000</td> <td>   -2.837</td> <td>   -0.951</td>\n",
              "</tr>\n",
              "</table>\n",
              "<table class=\"simpletable\">\n",
              "<tr>\n",
              "  <th>Omnibus:</th>       <td> 1.306</td> <th>  Durbin-Watson:     </th> <td>   2.074</td>\n",
              "</tr>\n",
              "<tr>\n",
              "  <th>Prob(Omnibus):</th> <td> 0.521</td> <th>  Jarque-Bera (JB):  </th> <td>   1.379</td>\n",
              "</tr>\n",
              "<tr>\n",
              "  <th>Skew:</th>          <td>-0.231</td> <th>  Prob(JB):          </th> <td>   0.502</td>\n",
              "</tr>\n",
              "<tr>\n",
              "  <th>Kurtosis:</th>      <td> 2.769</td> <th>  Cond. No.          </th> <td>    71.9</td>\n",
              "</tr>\n",
              "</table><br/><br/>Warnings:<br/>[1] Standard Errors assume that the covariance matrix of the errors is correctly specified."
            ],
            "text/plain": [
              "<class 'statsmodels.iolib.summary.Summary'>\n",
              "\"\"\"\n",
              "                            OLS Regression Results                            \n",
              "==============================================================================\n",
              "Dep. Variable:            Life Ladder   R-squared:                       0.660\n",
              "Model:                            OLS   Adj. R-squared:                  0.657\n",
              "Method:                 Least Squares   F-statistic:                     236.9\n",
              "Date:                Sat, 14 Dec 2019   Prob (F-statistic):           2.28e-30\n",
              "Time:                        13:31:42   Log-Likelihood:                -129.99\n",
              "No. Observations:                 124   AIC:                             264.0\n",
              "Df Residuals:                     122   BIC:                             269.6\n",
              "Df Model:                           1                                         \n",
              "Covariance Type:            nonrobust                                         \n",
              "======================================================================================\n",
              "                         coef    std err          t      P>|t|      [0.025      0.975]\n",
              "--------------------------------------------------------------------------------------\n",
              "Log GDP per capita     0.7861      0.051     15.392      0.000       0.685       0.887\n",
              "Constant              -1.8939      0.476     -3.977      0.000      -2.837      -0.951\n",
              "==============================================================================\n",
              "Omnibus:                        1.306   Durbin-Watson:                   2.074\n",
              "Prob(Omnibus):                  0.521   Jarque-Bera (JB):                1.379\n",
              "Skew:                          -0.231   Prob(JB):                        0.502\n",
              "Kurtosis:                       2.769   Cond. No.                         71.9\n",
              "==============================================================================\n",
              "\n",
              "Warnings:\n",
              "[1] Standard Errors assume that the covariance matrix of the errors is correctly specified.\n",
              "\"\"\""
            ]
          },
          "metadata": {
            "tags": []
          },
          "execution_count": 12
        }
      ]
    },
    {
      "cell_type": "markdown",
      "metadata": {
        "id": "77DHVQOliA0G",
        "colab_type": "text"
      },
      "source": [
        "While there are lots of numbers here, a few confirm what we could probably tell from linear inspection: overall, this is a good model:\n",
        "\n",
        "- The <b>R-squared</b>, which is the squared correlation coefficient, is 66.0%, which is pretty good for a linear model.  Just how good is given by the <b>F-statistic</b>, which roughly tells us how implausible it would be to see such a high correlation between the Log GDP per capita and Life Ladder that we happen to have here, under the assumption that there is actually no correlation between the two.  The actual probability is given by the <b>P-value</b> of the F-statistic, which is less than $10^{-29}$.  This means the probability of seeing a relationship this strong if in truth one did not exist is less than the probability that you could pick one atom out of all of the atoms in the universe.\n",
        "- While the R-squared gives an idea of how good the overall linear model is, we can look at the next table to see how much the Log GDP per capita and the intercept (constant) contribute to the model.  For example, maybe we don't need to bother with a constant term at all and just looking at the $a \\cdot \\mathrm{(Log\\ GDP\\ per\\ capita)}$ part of the model would be good enough.  However, the p-values on both of these variables are quite small, which tells us that both pieces of the model have a statistically significant contribution."
      ]
    },
    {
      "cell_type": "markdown",
      "metadata": {
        "id": "J1dqilSmYbnc",
        "colab_type": "text"
      },
      "source": [
        "#### Linear Model Assumptions and Residual Analysis"
      ]
    },
    {
      "cell_type": "markdown",
      "metadata": {
        "id": "RcF8XIRgiA0N",
        "colab_type": "text"
      },
      "source": [
        "\n",
        "\n",
        "The linear model some assumptions (there are others, but these are two of the most important):\n",
        "\n",
        "- <b>Homoskedasticity</b>: This is a fancy way of saying that the variance of the errors is the same no matter what the value of the predictor variable is.  In other words, the predicted range of Life Ladder is about as wide a country with 100 GDP or a country with 10,000 GDP.\n",
        "- <b>Independence of errors</b>: This means that knowing how much the model gets Life Ladder of one country wrong shouldn't tell us anything about how much the model gets wrong the Life Ladder of other countries.\n",
        "\n",
        "Both of these assumptions are quite strong and **rarely hold in practice**: the goal is more to make sure they hold reasonably well.  Let's look at the residuals to see how well they hold:"
      ]
    },
    {
      "cell_type": "code",
      "metadata": {
        "id": "xykcpvHSiA0O",
        "colab_type": "code",
        "outputId": "53e6b222-2f4b-44cf-ebbd-14e324ca2caa",
        "colab": {
          "base_uri": "https://localhost:8080/",
          "height": 403
        }
      },
      "source": [
        "data[\"Residual\"] = m.resid\n",
        "data.sort_values('Log GDP per capita', inplace=True)\n",
        "fig = plt.figure(figsize=(10, 6))\n",
        "plt.plot(data[\"Log GDP per capita\"], data[\"Residual\"], \"go-\", markersize=4)\n",
        "plt.xlabel(\"Log GDP per capita\")\n",
        "plt.ylabel(\"Actual minus Predicted Life Ladder\")\n",
        "plt.title(\"Log GDP per capita versus Residual Life Ladder\")\n",
        "plt.grid()"
      ],
      "execution_count": 0,
      "outputs": [
        {
          "output_type": "display_data",
          "data": {
            "image/png": "[encoded data removed]",
            "text/plain": [
              "<Figure size 720x432 with 1 Axes>"
            ]
          },
          "metadata": {
            "tags": []
          }
        }
      ]
    },
    {
      "cell_type": "markdown",
      "metadata": {
        "id": "ZaawSNFStF6R",
        "colab_type": "text"
      },
      "source": [
        "Let's study what factors explain happiness the best. How does Generosity do? \n"
      ]
    },
    {
      "cell_type": "code",
      "metadata": {
        "id": "yytFUeamtjbd",
        "colab_type": "code",
        "colab": {
          "base_uri": "https://localhost:8080/",
          "height": 51
        },
        "outputId": "4e404dc6-66ac-489c-d2b5-03ec35c6bd28"
      },
      "source": [
        "np.corrcoef([data[\"Life Ladder\"], data[\"Generosity\"]])"
      ],
      "execution_count": 60,
      "outputs": [
        {
          "output_type": "execute_result",
          "data": {
            "text/plain": [
              "array([[1.        , 0.10922311],\n",
              "       [0.10922311, 1.        ]])"
            ]
          },
          "metadata": {
            "tags": []
          },
          "execution_count": 60
        }
      ]
    },
    {
      "cell_type": "code",
      "metadata": {
        "id": "vHI2-ce3z8b0",
        "colab_type": "code",
        "colab": {
          "base_uri": "https://localhost:8080/",
          "height": 404
        },
        "outputId": "a9bab432-4a09-4b53-e4de-1c0e8d710670"
      },
      "source": [
        "plt.figure(figsize=(10, 6)) # figure size \n",
        "plt.plot(data[\"Generosity\"], data[\"Life Ladder\"], \"o\", markersize=5) # plotting two variables\n",
        "plt.xlabel(\"Generosity\")\n",
        "plt.ylabel(\"Life Ladder\")\n",
        "plt.title(\"Life Ladder vs Generosity\")\n",
        "plt.grid()"
      ],
      "execution_count": 61,
      "outputs": [
        {
          "output_type": "display_data",
          "data": {
            "image/png": "[encoded data removed]",
            "text/plain": [
              "<Figure size 720x432 with 1 Axes>"
            ]
          },
          "metadata": {
            "tags": []
          }
        }
      ]
    },
    {
      "cell_type": "code",
      "metadata": {
        "id": "JfED2Nz6t4Ce",
        "colab_type": "code",
        "colab": {
          "base_uri": "https://localhost:8080/",
          "height": 444
        },
        "outputId": "c4b24ae5-b5a3-40c9-c08f-4b2da37f2776"
      },
      "source": [
        "m = sm.OLS(data[\"Life Ladder\"], data[[\"Generosity\", \"Constant\"]]).fit()\n",
        "m.summary()"
      ],
      "execution_count": 54,
      "outputs": [
        {
          "output_type": "execute_result",
          "data": {
            "text/html": [
              "<table class=\"simpletable\">\n",
              "<caption>OLS Regression Results</caption>\n",
              "<tr>\n",
              "  <th>Dep. Variable:</th>       <td>Life Ladder</td>   <th>  R-squared:         </th> <td>   0.012</td>\n",
              "</tr>\n",
              "<tr>\n",
              "  <th>Model:</th>                   <td>OLS</td>       <th>  Adj. R-squared:    </th> <td>   0.004</td>\n",
              "</tr>\n",
              "<tr>\n",
              "  <th>Method:</th>             <td>Least Squares</td>  <th>  F-statistic:       </th> <td>   1.473</td>\n",
              "</tr>\n",
              "<tr>\n",
              "  <th>Date:</th>             <td>Sat, 14 Dec 2019</td> <th>  Prob (F-statistic):</th>  <td> 0.227</td> \n",
              "</tr>\n",
              "<tr>\n",
              "  <th>Time:</th>                 <td>14:02:19</td>     <th>  Log-Likelihood:    </th> <td> -196.15</td>\n",
              "</tr>\n",
              "<tr>\n",
              "  <th>No. Observations:</th>      <td>   124</td>      <th>  AIC:               </th> <td>   396.3</td>\n",
              "</tr>\n",
              "<tr>\n",
              "  <th>Df Residuals:</th>          <td>   122</td>      <th>  BIC:               </th> <td>   401.9</td>\n",
              "</tr>\n",
              "<tr>\n",
              "  <th>Df Model:</th>              <td>     1</td>      <th>                     </th>     <td> </td>   \n",
              "</tr>\n",
              "<tr>\n",
              "  <th>Covariance Type:</th>      <td>nonrobust</td>    <th>                     </th>     <td> </td>   \n",
              "</tr>\n",
              "</table>\n",
              "<table class=\"simpletable\">\n",
              "<tr>\n",
              "       <td></td>         <th>coef</th>     <th>std err</th>      <th>t</th>      <th>P>|t|</th>  <th>[0.025</th>    <th>0.975]</th>  \n",
              "</tr>\n",
              "<tr>\n",
              "  <th>Generosity</th> <td>    0.8351</td> <td>    0.688</td> <td>    1.214</td> <td> 0.227</td> <td>   -0.527</td> <td>    2.197</td>\n",
              "</tr>\n",
              "<tr>\n",
              "  <th>Constant</th>   <td>    5.3708</td> <td>    0.107</td> <td>   50.401</td> <td> 0.000</td> <td>    5.160</td> <td>    5.582</td>\n",
              "</tr>\n",
              "</table>\n",
              "<table class=\"simpletable\">\n",
              "<tr>\n",
              "  <th>Omnibus:</th>       <td> 6.613</td> <th>  Durbin-Watson:     </th> <td>   0.844</td>\n",
              "</tr>\n",
              "<tr>\n",
              "  <th>Prob(Omnibus):</th> <td> 0.037</td> <th>  Jarque-Bera (JB):  </th> <td>   3.176</td>\n",
              "</tr>\n",
              "<tr>\n",
              "  <th>Skew:</th>          <td>-0.096</td> <th>  Prob(JB):          </th> <td>   0.204</td>\n",
              "</tr>\n",
              "<tr>\n",
              "  <th>Kurtosis:</th>      <td> 2.240</td> <th>  Cond. No.          </th> <td>    6.46</td>\n",
              "</tr>\n",
              "</table><br/><br/>Warnings:<br/>[1] Standard Errors assume that the covariance matrix of the errors is correctly specified."
            ],
            "text/plain": [
              "<class 'statsmodels.iolib.summary.Summary'>\n",
              "\"\"\"\n",
              "                            OLS Regression Results                            \n",
              "==============================================================================\n",
              "Dep. Variable:            Life Ladder   R-squared:                       0.012\n",
              "Model:                            OLS   Adj. R-squared:                  0.004\n",
              "Method:                 Least Squares   F-statistic:                     1.473\n",
              "Date:                Sat, 14 Dec 2019   Prob (F-statistic):              0.227\n",
              "Time:                        14:02:19   Log-Likelihood:                -196.15\n",
              "No. Observations:                 124   AIC:                             396.3\n",
              "Df Residuals:                     122   BIC:                             401.9\n",
              "Df Model:                           1                                         \n",
              "Covariance Type:            nonrobust                                         \n",
              "==============================================================================\n",
              "                 coef    std err          t      P>|t|      [0.025      0.975]\n",
              "------------------------------------------------------------------------------\n",
              "Generosity     0.8351      0.688      1.214      0.227      -0.527       2.197\n",
              "Constant       5.3708      0.107     50.401      0.000       5.160       5.582\n",
              "==============================================================================\n",
              "Omnibus:                        6.613   Durbin-Watson:                   0.844\n",
              "Prob(Omnibus):                  0.037   Jarque-Bera (JB):                3.176\n",
              "Skew:                          -0.096   Prob(JB):                        0.204\n",
              "Kurtosis:                       2.240   Cond. No.                         6.46\n",
              "==============================================================================\n",
              "\n",
              "Warnings:\n",
              "[1] Standard Errors assume that the covariance matrix of the errors is correctly specified.\n",
              "\"\"\""
            ]
          },
          "metadata": {
            "tags": []
          },
          "execution_count": 54
        }
      ]
    },
    {
      "cell_type": "markdown",
      "metadata": {
        "id": "eFilL_e5uAUN",
        "colab_type": "text"
      },
      "source": [
        "Let's study additional variables and how they do ... "
      ]
    },
    {
      "cell_type": "code",
      "metadata": {
        "id": "bpSVCjcfmdja",
        "colab_type": "code",
        "colab": {
          "base_uri": "https://localhost:8080/",
          "height": 85
        },
        "outputId": "e19a0204-07b8-4819-caf2-ac1236e7837e"
      },
      "source": [
        "np.corrcoef([data[\"Life Ladder\"], data[\"Log GDP per capita\"],data[\"Social support\"], data[\"Generosity\"]])"
      ],
      "execution_count": 55,
      "outputs": [
        {
          "output_type": "execute_result",
          "data": {
            "text/plain": [
              "array([[ 1.        ,  0.81246416,  0.75500503,  0.10922311],\n",
              "       [ 0.81246416,  1.        ,  0.72256569, -0.06219023],\n",
              "       [ 0.75500503,  0.72256569,  1.        , -0.03837102],\n",
              "       [ 0.10922311, -0.06219023, -0.03837102,  1.        ]])"
            ]
          },
          "metadata": {
            "tags": []
          },
          "execution_count": 55
        }
      ]
    },
    {
      "cell_type": "code",
      "metadata": {
        "id": "iBLr0bD3pDMk",
        "colab_type": "code",
        "colab": {}
      },
      "source": [
        "names = ['Life Ladder', 'Log GDP per capita', 'Social support', \"Generosity\"]"
      ],
      "execution_count": 0,
      "outputs": []
    },
    {
      "cell_type": "code",
      "metadata": {
        "id": "mJURYw4IpQWb",
        "colab_type": "code",
        "colab": {}
      },
      "source": [
        "corr=np.corrcoef([data[\"Life Ladder\"], data[\"Log GDP per capita\"],data[\"Social support\"], data[\"Generosity\"]])"
      ],
      "execution_count": 0,
      "outputs": []
    },
    {
      "cell_type": "code",
      "metadata": {
        "id": "WDxJUudNpXVl",
        "colab_type": "code",
        "colab": {
          "base_uri": "https://localhost:8080/",
          "height": 271
        },
        "outputId": "bc2ddfa7-0811-44a4-ed61-670521c12305"
      },
      "source": [
        "fig = plt.figure()\n",
        "ax = fig.add_subplot(111)\n",
        "cax = ax.matshow(corr, vmin=-1, vmax=1)\n",
        "fig.colorbar(cax)\n",
        "ticks = np.arange(0,4,1)\n",
        "ax.set_xticks(ticks)\n",
        "ax.set_yticks(ticks)\n",
        "ax.set_xticklabels(names)\n",
        "ax.set_yticklabels(names)\n",
        "plt.show()"
      ],
      "execution_count": 59,
      "outputs": [
        {
          "output_type": "display_data",
          "data": {
            "image/png": "[encoded data removed]",
            "text/plain": [
              "<Figure size 432x288 with 2 Axes>"
            ]
          },
          "metadata": {
            "tags": []
          }
        }
      ]
    },
    {
      "cell_type": "markdown",
      "metadata": {
        "id": "-JZ7NG8TukMq",
        "colab_type": "text"
      },
      "source": [
        "Let's try and make our best linear regression model using a single variable ... \n"
      ]
    },
    {
      "cell_type": "markdown",
      "metadata": {
        "id": "TXNXyok82vjy",
        "colab_type": "text"
      },
      "source": [
        "Let's spend some time on Multiple Regression"
      ]
    },
    {
      "cell_type": "code",
      "metadata": {
        "id": "ZQg3AWMzmdyR",
        "colab_type": "code",
        "colab": {
          "base_uri": "https://localhost:8080/",
          "height": 507
        },
        "outputId": "a87890d4-4a81-4011-b781-725940b06c9e"
      },
      "source": [
        "m = sm.OLS(data[\"Life Ladder\"], data[[\"Log GDP per capita\", \"Social support\", \"Generosity\", \"Constant\"]]).fit()\n",
        "m.summary()"
      ],
      "execution_count": 45,
      "outputs": [
        {
          "output_type": "execute_result",
          "data": {
            "text/html": [
              "<table class=\"simpletable\">\n",
              "<caption>OLS Regression Results</caption>\n",
              "<tr>\n",
              "  <th>Dep. Variable:</th>       <td>Life Ladder</td>   <th>  R-squared:         </th> <td>   0.757</td>\n",
              "</tr>\n",
              "<tr>\n",
              "  <th>Model:</th>                   <td>OLS</td>       <th>  Adj. R-squared:    </th> <td>   0.749</td>\n",
              "</tr>\n",
              "<tr>\n",
              "  <th>Method:</th>             <td>Least Squares</td>  <th>  F-statistic:       </th> <td>   92.88</td>\n",
              "</tr>\n",
              "<tr>\n",
              "  <th>Date:</th>             <td>Sat, 14 Dec 2019</td> <th>  Prob (F-statistic):</th> <td>1.16e-35</td>\n",
              "</tr>\n",
              "<tr>\n",
              "  <th>Time:</th>                 <td>13:52:54</td>     <th>  Log-Likelihood:    </th> <td> -109.08</td>\n",
              "</tr>\n",
              "<tr>\n",
              "  <th>No. Observations:</th>      <td>   124</td>      <th>  AIC:               </th> <td>   228.2</td>\n",
              "</tr>\n",
              "<tr>\n",
              "  <th>Df Residuals:</th>          <td>   119</td>      <th>  BIC:               </th> <td>   242.3</td>\n",
              "</tr>\n",
              "<tr>\n",
              "  <th>Df Model:</th>              <td>     4</td>      <th>                     </th>     <td> </td>   \n",
              "</tr>\n",
              "<tr>\n",
              "  <th>Covariance Type:</th>      <td>nonrobust</td>    <th>                     </th>     <td> </td>   \n",
              "</tr>\n",
              "</table>\n",
              "<table class=\"simpletable\">\n",
              "<tr>\n",
              "           <td></td>             <th>coef</th>     <th>std err</th>      <th>t</th>      <th>P>|t|</th>  <th>[0.025</th>    <th>0.975]</th>  \n",
              "</tr>\n",
              "<tr>\n",
              "  <th>Log GDP per capita</th> <td>    0.4528</td> <td>    0.074</td> <td>    6.113</td> <td> 0.000</td> <td>    0.306</td> <td>    0.599</td>\n",
              "</tr>\n",
              "<tr>\n",
              "  <th>Social support</th>     <td>    3.0058</td> <td>    0.604</td> <td>    4.978</td> <td> 0.000</td> <td>    1.810</td> <td>    4.201</td>\n",
              "</tr>\n",
              "<tr>\n",
              "  <th>Democratic Quality</th> <td>    0.2289</td> <td>    0.089</td> <td>    2.563</td> <td> 0.012</td> <td>    0.052</td> <td>    0.406</td>\n",
              "</tr>\n",
              "<tr>\n",
              "  <th>Generosity</th>         <td>    1.0978</td> <td>    0.349</td> <td>    3.149</td> <td> 0.002</td> <td>    0.408</td> <td>    1.788</td>\n",
              "</tr>\n",
              "<tr>\n",
              "  <th>Constant</th>           <td>   -1.2459</td> <td>    0.589</td> <td>   -2.114</td> <td> 0.037</td> <td>   -2.413</td> <td>   -0.079</td>\n",
              "</tr>\n",
              "</table>\n",
              "<table class=\"simpletable\">\n",
              "<tr>\n",
              "  <th>Omnibus:</th>       <td> 1.059</td> <th>  Durbin-Watson:     </th> <td>   1.963</td>\n",
              "</tr>\n",
              "<tr>\n",
              "  <th>Prob(Omnibus):</th> <td> 0.589</td> <th>  Jarque-Bera (JB):  </th> <td>   0.774</td>\n",
              "</tr>\n",
              "<tr>\n",
              "  <th>Skew:</th>          <td>-0.188</td> <th>  Prob(JB):          </th> <td>   0.679</td>\n",
              "</tr>\n",
              "<tr>\n",
              "  <th>Kurtosis:</th>      <td> 3.093</td> <th>  Cond. No.          </th> <td>    115.</td>\n",
              "</tr>\n",
              "</table><br/><br/>Warnings:<br/>[1] Standard Errors assume that the covariance matrix of the errors is correctly specified."
            ],
            "text/plain": [
              "<class 'statsmodels.iolib.summary.Summary'>\n",
              "\"\"\"\n",
              "                            OLS Regression Results                            \n",
              "==============================================================================\n",
              "Dep. Variable:            Life Ladder   R-squared:                       0.757\n",
              "Model:                            OLS   Adj. R-squared:                  0.749\n",
              "Method:                 Least Squares   F-statistic:                     92.88\n",
              "Date:                Sat, 14 Dec 2019   Prob (F-statistic):           1.16e-35\n",
              "Time:                        13:52:54   Log-Likelihood:                -109.08\n",
              "No. Observations:                 124   AIC:                             228.2\n",
              "Df Residuals:                     119   BIC:                             242.3\n",
              "Df Model:                           4                                         \n",
              "Covariance Type:            nonrobust                                         \n",
              "======================================================================================\n",
              "                         coef    std err          t      P>|t|      [0.025      0.975]\n",
              "--------------------------------------------------------------------------------------\n",
              "Log GDP per capita     0.4528      0.074      6.113      0.000       0.306       0.599\n",
              "Social support         3.0058      0.604      4.978      0.000       1.810       4.201\n",
              "Democratic Quality     0.2289      0.089      2.563      0.012       0.052       0.406\n",
              "Generosity             1.0978      0.349      3.149      0.002       0.408       1.788\n",
              "Constant              -1.2459      0.589     -2.114      0.037      -2.413      -0.079\n",
              "==============================================================================\n",
              "Omnibus:                        1.059   Durbin-Watson:                   1.963\n",
              "Prob(Omnibus):                  0.589   Jarque-Bera (JB):                0.774\n",
              "Skew:                          -0.188   Prob(JB):                        0.679\n",
              "Kurtosis:                       3.093   Cond. No.                         115.\n",
              "==============================================================================\n",
              "\n",
              "Warnings:\n",
              "[1] Standard Errors assume that the covariance matrix of the errors is correctly specified.\n",
              "\"\"\""
            ]
          },
          "metadata": {
            "tags": []
          },
          "execution_count": 45
        }
      ]
    },
    {
      "cell_type": "code",
      "metadata": {
        "id": "ptEQNuxyqcTP",
        "colab_type": "code",
        "colab": {
          "base_uri": "https://localhost:8080/",
          "height": 404
        },
        "outputId": "1b7e645f-fb1b-44fb-9657-07179064f691"
      },
      "source": [
        "data[\"Residual\"] = m.resid\n",
        "data.sort_values('Social support', inplace=True)\n",
        "fig = plt.figure(figsize=(10, 6))\n",
        "plt.plot(data[\"Social support\"], data[\"Residual\"], \"go-\", markersize=4)\n",
        "plt.xlabel(\"Social support\")\n",
        "plt.ylabel(\"Actual minus Predicted Life Ladder\")\n",
        "plt.title(\"Social support versus Residual Life Ladder\")\n",
        "plt.grid()"
      ],
      "execution_count": 26,
      "outputs": [
        {
          "output_type": "display_data",
          "data": {
            "image/png": "[encoded data removed]",
            "text/plain": [
              "<Figure size 720x432 with 1 Axes>"
            ]
          },
          "metadata": {
            "tags": []
          }
        }
      ]
    }
  ]
}